{
  "cells": [
    {
      "cell_type": "code",
      "execution_count": null,
      "metadata": {
        "id": "nInBThXm0TGw"
      },
      "outputs": [],
      "source": [
        "import numpy as np\n",
        "import matplotlib.pyplot as plt\n",
        "from keras.datasets import mnist\n",
        "from keras.models import Model\n",
        "from keras.layers import Input, Dense\n",
        "from keras.callbacks import EarlyStopping\n"
      ]
    },
    {
      "cell_type": "code",
      "execution_count": null,
      "metadata": {},
      "outputs": [],
      "source": [
        "# Load dataset MNIST\n",
        "(x_train, _), (x_test, _) = mnist.load_data()\n",
        "\n",
        "# Normalize and reshape (reshape is necessary because we will use MLP)\n",
        "x_train = x_train.astype('float32') / 255.\n",
        "x_test = x_test.astype('float32') / 255.\n",
        "x_train = np.reshape(x_train, (len(x_train), 784))\n",
        "x_test = np.reshape(x_test, (len(x_test), 784))"
      ]
    },
    {
      "cell_type": "code",
      "execution_count": null,
      "metadata": {
        "id": "9Wi0JzNU6J_b"
      },
      "outputs": [],
      "source": [
        "# Model definition. We are using the functional mode instead of sequential mode\n",
        "# https://keras.io/guides/functional_api/\n",
        "\n",
        "input_img = Input(shape=(784,))\n",
        "encoded1 = Dense(128, activation='relu')(input_img)\n",
        "encoded2 = Dense(64, activation='relu')(encoded1)\n",
        "decoded1 = Dense(128, activation='relu')(encoded2)\n",
        "output = Dense(784, activation='sigmoid')(decoded1)\n",
        "\n",
        "autoencoder = Model(input_img, output)\n",
        "autoencoder.compile(optimizer='adam', loss='binary_crossentropy')\n",
        "\n",
        "# Train the model on the training dataset\n",
        "autoencoder.fit(x_train, x_train,\n",
        "                epochs=50,\n",
        "                batch_size=256,\n",
        "                shuffle=True,\n",
        "                validation_split=0.2,\n",
        "                callbacks=[EarlyStopping(monitor='val_loss', patience=3, restore_best_weights=True)])\n"
      ]
    },
    {
      "cell_type": "code",
      "execution_count": null,
      "metadata": {
        "id": "aUpH0GUHkM_H"
      },
      "outputs": [],
      "source": [
        "# create a noised dataset by adding some noise to the original test set\n",
        "x_test_noise = x_test + np.random.normal(loc=0.0, scale=0.1, size=x_test.shape)\n",
        "# creates a noisy version of the x_test array by adding random noise sampled\n",
        "# from a normal distribution with a mean of 0.0 and a standard deviation of 0.1 to each element.\n",
        "x_test_noise = np.clip(x_test_noise, 0., 1.)\n",
        "# ensures that all values in the x_test_noise array are within the range [0, 1].\n",
        "# Any values below 0 are set to 0, and any values above 1 are set to 1.\n"
      ]
    },
    {
      "cell_type": "code",
      "execution_count": null,
      "metadata": {
        "id": "x4hihkKH6bP3"
      },
      "outputs": [],
      "source": [
        "\n",
        "# # Visualize the image, its reconstruction and the corresponding reconstruction error\n",
        "def visualize_reconstruction(image, autoencoder):\n",
        "    plt.figure(figsize=(8, 4))\n",
        "    # original image\n",
        "    plt.subplot(1, 3, 1)\n",
        "    plt.imshow(image.reshape(28, 28), cmap='gray')\n",
        "    plt.title('Original Image')\n",
        "    plt.axis('off')\n",
        "    # reconstructed image\n",
        "    plt.subplot(1, 3, 2)\n",
        "    reconstructed_image = autoencoder.predict(np.expand_dims(image, axis=0)).reshape(28, 28)\n",
        "    plt.imshow(reconstructed_image, cmap='gray')\n",
        "    plt.title('Reconstructed Image')\n",
        "    plt.axis('off')\n",
        "    # reconstruction error\n",
        "    plt.subplot(1, 3, 3)\n",
        "    reconstruction_error = np.square(image.reshape(28,28) - reconstructed_image)\n",
        "    plt.imshow(reconstruction_error, cmap='hot')\n",
        "    plt.title('Reconstruction Error')\n",
        "    plt.axis('off')\n",
        "    plt.show()\n",
        "\n",
        "# select a random index and visualize the images both for the normal and the noised record (anomalous)\n",
        "index = np.random.randint(len(x_test))\n",
        "visualize_reconstruction(x_test[index], autoencoder)\n",
        "visualize_reconstruction(x_test_noise[index], autoencoder)\n"
      ]
    },
    {
      "cell_type": "code",
      "execution_count": null,
      "metadata": {
        "id": "YCCI2HB39c2I"
      },
      "outputs": [],
      "source": [
        "# Visualize the reconstruction errors for a set of data. Anomalous and normal data must have different colors\n",
        "# Record must be sorted according to their reconstruction errors\n",
        "\n",
        "# Select 30 random indexes\n",
        "original_indices = np.random.choice(len(x_test), size=30, replace=False)\n",
        "anomalous_indices = np.random.choice(len(x_test_noise), size=30, replace=False)\n",
        "\n",
        "# Campute the reconstruction errors\n",
        "reconstruction_error_original = np.mean(np.square(x_test[original_indices] - autoencoder.predict(x_test[original_indices])), axis=1)\n",
        "reconstruction_error_noise = np.mean(np.square(x_test_noise[anomalous_indices] - autoencoder.predict(x_test_noise[anomalous_indices])), axis=1)\n",
        "\n",
        "# Combina gli errori e ordina gli indici\n",
        "errors = np.concatenate((reconstruction_error_original, reconstruction_error_noise))\n",
        "labels = ['Original MNIST'] * 30 + ['Anomalous MNIST'] * 30\n",
        "indices = np.argsort(errors)\n",
        "\n",
        "# Plot reconstruction errors\n",
        "plt.figure(figsize=(8, 6))\n",
        "plt.scatter(range(len(errors)), errors[indices], c=np.array(labels)[indices] == 'Anomalous MNIST', cmap='coolwarm', marker='o', s=10)\n",
        "plt.xlabel('Sample index')\n",
        "plt.ylabel('Reconstruction error')\n",
        "plt.title('Reconstruction Error on Test Dataset')\n",
        "plt.colorbar(label='Anomalous')\n",
        "plt.show()\n"
      ]
    },
    {
      "cell_type": "code",
      "execution_count": null,
      "metadata": {
        "id": "0YweI1ls_uEE"
      },
      "outputs": [],
      "source": [
        "# HOMEWORK 1: complete the code to compute the confusion matrix for the binary problem of assigning\n",
        "#            the labels ANOMALOUS/NORMAL based on the reconstruction error (you have to set the threshold).\n"
      ]
    },
    {
      "cell_type": "code",
      "execution_count": null,
      "metadata": {
        "id": "fGHmFSRWb3GE"
      },
      "outputs": [],
      "source": [
        "# HOMEWORK 2: complete the code to compute the ROC function for the binary problem of assigning\n",
        "#            the labels ANOMALOUS/NORMAL based on the reconstruction error.\n"
      ]
    }
  ],
  "metadata": {
    "accelerator": "GPU",
    "colab": {
      "gpuType": "T4",
      "private_outputs": true,
      "provenance": []
    },
    "kernelspec": {
      "display_name": ".venv",
      "language": "python",
      "name": "python3"
    },
    "language_info": {
      "name": "python",
      "version": "3.12.10"
    }
  },
  "nbformat": 4,
  "nbformat_minor": 0
}
