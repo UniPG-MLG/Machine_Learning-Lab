{
  "cells": [
    {
      "cell_type": "markdown",
      "metadata": {
        "id": "pa49bUnKyRgF"
      },
      "source": [
        "# **Time series forecasting**"
      ]
    },
    {
      "cell_type": "markdown",
      "metadata": {
        "id": "GU8C5qm_4vZb"
      },
      "source": [
        "This tutorial is an introduction to **time series forecasting** using TensorFlow.\n",
        "\n",
        "It builds a few different styles of models including **Recurrent Neural Networks**.\n",
        "\n",
        "This is covered in two main parts, with subsections:\n",
        "- Forecast for a **single time step**:\n",
        "- Forecast **multiple steps**:\n",
        "  - **Single-shot**: Make the predictions all at once.\n",
        "  - **Autoregressive**: Make one prediction at a time and feed the output back to the model."
      ]
    },
    {
      "cell_type": "markdown",
      "metadata": {
        "id": "XVhK72Pu1cJL"
      },
      "source": [
        "## Setup"
      ]
    },
    {
      "cell_type": "code",
      "execution_count": null,
      "metadata": {
        "id": "7rZnJaGTWQw0"
      },
      "outputs": [],
      "source": [
        "import os\n",
        "import datetime\n",
        "\n",
        "import random\n",
        "import IPython\n",
        "import IPython.display\n",
        "import matplotlib as mpl\n",
        "import matplotlib.pyplot as plt\n",
        "import numpy as np\n",
        "import pandas as pd\n",
        "import seaborn as sns\n",
        "import tensorflow as tf\n",
        "\n",
        "mpl.rcParams['figure.figsize'] = (8, 6)\n",
        "mpl.rcParams['axes.grid'] = False"
      ]
    },
    {
      "cell_type": "code",
      "execution_count": null,
      "metadata": {
        "id": "RTQgK5jNexDp"
      },
      "outputs": [],
      "source": [
        "seed = 42\n",
        "\n",
        "random.seed(seed)\n",
        "np.random.seed(seed)\n",
        "tf.random.set_seed(seed)"
      ]
    },
    {
      "cell_type": "markdown",
      "metadata": {
        "id": "TokBlnUhWFw9"
      },
      "source": [
        "# **The weather dataset**\n",
        "\n",
        "This tutorial uses a <a href=\"https://www.bgc-jena.mpg.de/wetter/\" class=\"external\">weather time series dataset</a> recorded by the <a href=\"https://www.bgc-jena.mpg.de\" class=\"external\">Max Planck Institute for Biogeochemistry</a>.\n",
        "\n",
        "This dataset contains 14 different features such as `air temperature, atmospheric pressure, and humidity`. These were collected `every 10 minutes`, beginning in 2003. For efficiency, you will use only the data collected between `2009 and 2016` (this section of the dataset was prepared by François Chollet for his book <a href=\"https://www.manning.com/books/deep-learning-with-python\" class=\"external\">Deep Learning with Python</a>)."
      ]
    },
    {
      "cell_type": "code",
      "execution_count": null,
      "metadata": {
        "id": "xyv_i85IWInT"
      },
      "outputs": [],
      "source": [
        "# download and unzip dataset\n",
        "zip_path = tf.keras.utils.get_file(\n",
        "    origin='https://storage.googleapis.com/tensorflow/tf-keras-datasets/jena_climate_2009_2016.csv.zip',\n",
        "    fname='jena_climate_2009_2016.csv.zip',\n",
        "    extract=True)\n",
        "\n",
        "print(zip_path)\n",
        "csv_path = os.path.join(zip_path, \"jena_climate_2009_2016.csv\")\n",
        "print(csv_path)"
      ]
    },
    {
      "cell_type": "code",
      "source": [
        "# TODO: load csv data into a Pandas DataFrame\n",
        "df = ...\n",
        "df"
      ],
      "metadata": {
        "id": "IEriSE1w386w"
      },
      "execution_count": null,
      "outputs": []
    },
    {
      "cell_type": "markdown",
      "source": [
        "As a first step when dealing with a dataset, we need to check:\n",
        "\n",
        "- Are there any null values?\n",
        "- Are there any missing data?\n",
        "- Do we have the correct granularity?\n",
        "- Are there any out-of-scale values?"
      ],
      "metadata": {
        "id": "oJ-XtbA9fe7o"
      }
    },
    {
      "cell_type": "code",
      "source": [
        "# TODO: check for null values\n",
        "..."
      ],
      "metadata": {
        "id": "30z-iiYGfggJ"
      },
      "execution_count": null,
      "outputs": []
    },
    {
      "cell_type": "code",
      "source": [
        "# check for missing values\n",
        "df[\"Date Time\"] = df[\"Date Time\"].astype(\"datetime64[ms]\")\n",
        "\n",
        "date_rng = pd.date_range(start='2009-01-01 00:10:00', end='2017-01-01 00:00:00', freq='10min')\n",
        "df_ideal = pd.DataFrame({'value': range(len(date_rng))}, index=date_rng)\n",
        "\n",
        "df_ideal.index.difference(df[\"Date Time\"].values)"
      ],
      "metadata": {
        "id": "y9alk85agHVn"
      },
      "execution_count": null,
      "outputs": []
    },
    {
      "cell_type": "code",
      "source": [
        "df[df['Date Time'] == \"08.10.2009 10:00:00\"] # remember we have to use English data format"
      ],
      "metadata": {
        "id": "R1kVPhNbhw3Z"
      },
      "execution_count": null,
      "outputs": []
    },
    {
      "cell_type": "markdown",
      "metadata": {
        "id": "R81Wx8WP4c3G"
      },
      "source": [
        "This tutorial will just deal with **hourly predictions**, so start by sub-sampling the data from 10-minute intervals to one-hour intervals:"
      ]
    },
    {
      "cell_type": "code",
      "source": [
        "# TODO: resample dataframe to hourly timestamps\n",
        "# HINT: keep attention to missing values !!\n",
        "..."
      ],
      "metadata": {
        "id": "1mG5KILZ5Y-z"
      },
      "execution_count": null,
      "outputs": []
    },
    {
      "cell_type": "code",
      "source": [
        "# TODO: extract the timestamp column\n",
        "date_time = ...\n",
        "date_time"
      ],
      "metadata": {
        "id": "oGH2YGNm8fbl"
      },
      "execution_count": null,
      "outputs": []
    },
    {
      "cell_type": "markdown",
      "metadata": {
        "id": "VdbOWXiTWM2T"
      },
      "source": [
        "Let's take a glance at the data. Here are the first few rows:"
      ]
    },
    {
      "cell_type": "code",
      "execution_count": null,
      "metadata": {
        "id": "ojHE-iCCWIhz"
      },
      "outputs": [],
      "source": [
        "df.head()"
      ]
    },
    {
      "cell_type": "markdown",
      "metadata": {
        "id": "WRzj1inMfgcO"
      },
      "source": [
        "Here is the evolution of a few features over time:"
      ]
    },
    {
      "cell_type": "code",
      "source": [
        "# plot some data\n",
        "plot_cols = ['T (degC)', 'p (mbar)', 'rho (g/m**3)']\n",
        "plot_features = df[plot_cols]\n",
        "plot_features.index = date_time\n",
        "_ = plot_features.plot(subplots=True, title=\"All Dataset\")\n",
        "\n",
        "plot_features = df[plot_cols][:480]\n",
        "plot_features.index = date_time[:480]\n",
        "_ = plot_features.plot(subplots=True, title=\"First 480 values\")\n",
        "\n",
        "plt.tight_layout()\n",
        "plt.show()"
      ],
      "metadata": {
        "id": "oQLFx1D379IO"
      },
      "execution_count": null,
      "outputs": []
    },
    {
      "cell_type": "markdown",
      "metadata": {
        "id": "yhmZXJew6GlS"
      },
      "source": [
        "Next, look at the statistics of the dataset:"
      ]
    },
    {
      "cell_type": "code",
      "execution_count": null,
      "metadata": {
        "id": "h510pgKVrrai"
      },
      "outputs": [],
      "source": [
        "# TODO: plot some metrics about the dataframe (min, max, mean, std, ...)\n",
        "..."
      ]
    },
    {
      "cell_type": "markdown",
      "metadata": {
        "id": "i47LiW5DCVsP"
      },
      "source": [
        "One thing that should stand out is the `min` value of the wind velocity (`wv (m/s)`) and the maximum value (`max. wv (m/s)`) columns. This `-9999` is likely erroneous.\n",
        "\n",
        "There's a separate wind direction column, so the velocity should be greater than zero (`>=0`).\n",
        "\n",
        "We have several ways to deal with this problem:\n",
        "- remove compromised rows\n",
        "- replace with some computed values (like mean)\n",
        "- replace with a fixed value\n",
        "- try to guess the wrong values\n",
        "\n",
        "For ease of time we replace them with zeros."
      ]
    },
    {
      "cell_type": "code",
      "source": [
        "# TODO: replace erroenus values with 0\n",
        "# NOTE: df.method(..., inplace=True) is deprecated !!\n",
        "...\n",
        "\n",
        "df.describe().transpose()"
      ],
      "metadata": {
        "id": "ojnYQXauAXY6"
      },
      "execution_count": null,
      "outputs": []
    },
    {
      "cell_type": "markdown",
      "metadata": {
        "id": "_8im1ttOWlRB"
      },
      "source": [
        "#### **Time**"
      ]
    },
    {
      "cell_type": "markdown",
      "metadata": {
        "id": "7YE21HKK40zQ"
      },
      "source": [
        "The `Date Time` column is very useful, but not in this string form. Start by converting it to seconds:"
      ]
    },
    {
      "cell_type": "code",
      "execution_count": null,
      "metadata": {
        "id": "LIFf-VjMfnh3"
      },
      "outputs": [],
      "source": [
        "timestamp_s = date_time.map(pd.Timestamp.timestamp)\n",
        "timestamp_s"
      ]
    },
    {
      "cell_type": "markdown",
      "metadata": {
        "id": "EC_pnM1D5Sgc"
      },
      "source": [
        "Similar to the wind direction, the time in seconds is not a useful model input. Being weather data, it has clear daily and yearly periodicity. There are many ways you could deal with periodicity.\n",
        "\n",
        "You can get usable `signals` by using `sine` and `cosine` transforms to clear \"*Time of day*\" and \"*Time of year*\" signals:"
      ]
    },
    {
      "cell_type": "code",
      "execution_count": null,
      "metadata": {
        "id": "MBfX6CDwax73"
      },
      "outputs": [],
      "source": [
        "day = 24*60*60\n",
        "year = (365.2425)*day\n",
        "\n",
        "df['Day sin'] = np.sin(timestamp_s * (2 * np.pi / day))\n",
        "df['Day cos'] = np.cos(timestamp_s * (2 * np.pi / day))\n",
        "df['Year sin'] = np.sin(timestamp_s * (2 * np.pi / year))\n",
        "df['Year cos'] = np.cos(timestamp_s * (2 * np.pi / year))"
      ]
    },
    {
      "cell_type": "code",
      "execution_count": null,
      "metadata": {
        "id": "mXBbTJZfuuTC"
      },
      "outputs": [],
      "source": [
        "plt.plot(np.array(df['Day sin'])[:25])\n",
        "plt.plot(np.array(df['Day cos'])[:25])\n",
        "plt.xlabel('Time [h]')\n",
        "plt.title('Time of day signal')\n",
        "\n",
        "plt.show()"
      ]
    },
    {
      "cell_type": "markdown",
      "metadata": {
        "id": "HiurzTGQgf_D"
      },
      "source": [
        "This gives the model access to the most important frequency features. In this case you knew ahead of time which frequencies were important."
      ]
    },
    {
      "cell_type": "markdown",
      "metadata": {
        "id": "2rbL8bSGDHy3"
      },
      "source": [
        "### **Split the data**"
      ]
    },
    {
      "cell_type": "markdown",
      "metadata": {
        "id": "qoFJZmXBaxCc"
      },
      "source": [
        "You'll use a `(70%, 20%, 10%)` split for the `training`, `validation`, and `test` sets. Note the data is **not** being randomly shuffled before splitting. This is for two reasons:\n",
        "\n",
        "1. It ensures that chopping the data into windows of consecutive samples is still possible.\n",
        "2. It ensures that the validation/test results are more realistic, being evaluated on the data collected after the model was trained."
      ]
    },
    {
      "cell_type": "code",
      "execution_count": null,
      "metadata": {
        "id": "ia-MPAHxbInX"
      },
      "outputs": [],
      "source": [
        "column_indices = {name: i for i, name in enumerate(df.columns)}\n",
        "\n",
        "# TODO: split the data (70, 20, 10)\n",
        "n = len(df)\n",
        "train_df = ...\n",
        "val_df =  ...\n",
        "test_df = ...\n",
        "\n",
        "num_features = df.shape[1]"
      ]
    },
    {
      "cell_type": "code",
      "source": [
        "print(n)\n",
        "print(train_df.shape)\n",
        "print(val_df.shape)\n",
        "print(test_df.shape)\n",
        "print(column_indices)"
      ],
      "metadata": {
        "id": "JZcGKoNm11GA"
      },
      "execution_count": null,
      "outputs": []
    },
    {
      "cell_type": "markdown",
      "metadata": {
        "id": "-eFckdUUHWmT"
      },
      "source": [
        "### **Normalize the data**\n",
        "\n",
        "It is important to scale features before training a neural network.\n",
        "\n",
        "`Standardization` is a common way of doing this scaling: `subtract the mean` and `divide by the standard deviation` of each feature."
      ]
    },
    {
      "cell_type": "markdown",
      "metadata": {
        "id": "mxbIic5TMlxx"
      },
      "source": [
        "The mean and standard deviation should only be computed using the training data so that the models have no access to the values in the validation and test sets.\n",
        "\n",
        "It's also arguable that the model shouldn't have access to future values in the training set when training, and that this normalization should be done using moving averages. That's not the focus of this tutorial, and the validation and test sets ensure that you get (somewhat) honest metrics. So, in the interest of simplicity this tutorial uses a simple average."
      ]
    },
    {
      "cell_type": "code",
      "execution_count": null,
      "metadata": {
        "id": "Eji6njXvHusN"
      },
      "outputs": [],
      "source": [
        "# TODO: standardize datasets\n",
        "# NOTE: avoid data leakage !!!\n",
        "train_mean = ...\n",
        "train_std = ...\n",
        "\n",
        "train_df = ...\n",
        "val_df = ...\n",
        "test_df = ..."
      ]
    },
    {
      "cell_type": "markdown",
      "metadata": {
        "id": "G6ufs8kk9JQw"
      },
      "source": [
        "Now, peek at the distribution of the features. Some features do have long tails, but there are no obvious errors like the `-9999` wind velocity value."
      ]
    },
    {
      "cell_type": "code",
      "execution_count": null,
      "metadata": {
        "id": "T0UYEnkwm8Fe"
      },
      "outputs": [],
      "source": [
        "df_std = (df - train_mean) / train_std\n",
        "df_std = df_std.melt(var_name='Column', value_name='Normalized')\n",
        "plt.figure(figsize=(12, 6))\n",
        "ax = sns.violinplot(x='Column', y='Normalized', data=df_std)\n",
        "_ = ax.set_xticklabels(df.keys(), rotation=90)\n",
        "\n",
        "plt.show()"
      ]
    },
    {
      "cell_type": "markdown",
      "metadata": {
        "id": "ZBBmdxZ2HgfJ"
      },
      "source": [
        "## **Data windowing**\n",
        "\n",
        "The models in this tutorial will make a set of predictions based on a window of consecutive samples from the data.\n",
        "\n",
        "The main features of the input windows are:\n",
        "\n",
        "- The `width` (**number of time steps**) of the input and label windows.\n",
        "- The `time offset` between them.\n",
        "- **Which features are used as inputs, labels, or both.**\n",
        "\n",
        "This tutorial builds a variety of models (DNN, CNN and RNN models), and uses them for both:\n",
        "\n",
        "- *Single-output* predictions. FORSE VA TOLTO\n",
        "- *Single-time-step* and *multi-time-step* predictions.\n",
        "\n",
        "This section focuses on implementing the data windowing so that it can be reused for all of those models.\n",
        "\n",
        "\n",
        "\n"
      ]
    },
    {
      "cell_type": "markdown",
      "metadata": {
        "id": "YAhGUVx1jtOy"
      },
      "source": [
        "Depending on the task and type of model you may want to generate a variety of data windows. Here are some examples:\n",
        "\n",
        "1. For example, to make a single prediction 24 hours into the future, given 24 hours of history, you might define a window like this:\n",
        "\n",
        "  ![image.png](data:image/png;base64,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)\n",
        "\n",
        "2. A model that makes a prediction one hour into the future, given six hours of history, would need a window like this:\n",
        "\n",
        " ![image.png](data:image/png;base64,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)"
      ]
    },
    {
      "cell_type": "markdown",
      "metadata": {
        "id": "l0SjSug8sUMD"
      },
      "source": [
        "The previous ways to handle windows can be coded into a more practical representationa as follow:\n",
        "\n",
        "1. An input width of 24 items with an offset (into the future) of 24 items and label width equals to 1 (meaning i want just the last one element)\n",
        "\n",
        "  ![One prediction 24 hours into the future.](https://github.com/tensorflow/docs/blob/master/site/en/tutorials/structured_data/images/raw_window_24h.png?raw=1)\n",
        "\n",
        "2. An input width of 6 items with an offset (into the future) of 1 element and 1 for the label width:\n",
        "\n",
        "  ![One prediction one hour into the future.](https://github.com/tensorflow/docs/blob/master/site/en/tutorials/structured_data/images/raw_window_1h.png?raw=1)\n",
        "\n",
        "  Using this format we can represent all the possible window types we need !"
      ]
    },
    {
      "cell_type": "markdown",
      "metadata": {
        "id": "sa2BbfNZt8wy"
      },
      "source": [
        "The rest of this section defines a `WindowGenerator` class. This class can:\n",
        "\n",
        "1. Handle the indexes and offsets as shown in the diagrams above.\n",
        "1. Split windows of features into `(features, labels)` pairs.\n",
        "2. Plot the content of the resulting windows.\n",
        "3. Efficiently generate batches of these windows from the training, evaluation, and test data, using `tf.data.Dataset`s."
      ]
    },
    {
      "cell_type": "markdown",
      "metadata": {
        "id": "rfx3jGjyziUF"
      },
      "source": [
        "### 1. **Indexes and offsets**\n",
        "\n",
        "Start by creating the `WindowGenerator` class. The `__init__` method includes all the necessary logic for the input and label indices.\n",
        "\n",
        "It also takes the training, evaluation, and test DataFrames as input. These will be converted to `tf.data.Dataset`s of windows later."
      ]
    },
    {
      "cell_type": "code",
      "execution_count": null,
      "metadata": {
        "id": "Kem30j8QHxyW"
      },
      "outputs": [],
      "source": [
        "class WindowGenerator():\n",
        "  def __init__(self, input_width, label_width, offset,\n",
        "               train_df=train_df, val_df=val_df, test_df=test_df,\n",
        "               label_columns=None):\n",
        "    # Store the raw data.\n",
        "    self.train_df = train_df\n",
        "    self.val_df = val_df\n",
        "    self.test_df = test_df\n",
        "\n",
        "    # Work out the label column indices.\n",
        "    self.label_columns = label_columns\n",
        "    if label_columns is not None:\n",
        "      self.label_columns_indices = {name: i for i, name in\n",
        "                                    enumerate(label_columns)}\n",
        "\n",
        "    self.column_indices = {name: i for i, name in\n",
        "                           enumerate(train_df.columns)}\n",
        "\n",
        "    # Work out the window parameters.\n",
        "    self.input_width = ...\n",
        "    self.label_width = ...\n",
        "    self.offset = ...\n",
        "\n",
        "    self.total_window_size = ...\n",
        "\n",
        "    self.input_slice = ...\n",
        "    self.input_indices = np.arange(self.total_window_size)[self.input_slice]\n",
        "\n",
        "    self.label_start = ...\n",
        "    self.labels_slice = ...\n",
        "    self.label_indices = np.arange(self.total_window_size)[self.labels_slice]\n",
        "\n",
        "  def __repr__(self):\n",
        "    return '\\n'.join([\n",
        "        f'Total window size: {self.total_window_size}',\n",
        "        f'Input indices: {self.input_indices}',\n",
        "        f'Label indices: {self.label_indices}',\n",
        "        f'Label column name(s): {self.label_columns}'])"
      ]
    },
    {
      "cell_type": "markdown",
      "metadata": {
        "id": "yVJgblsYzL1g"
      },
      "source": [
        "Here is code to create the 2 windows shown in the diagrams at the start of this section:"
      ]
    },
    {
      "cell_type": "code",
      "execution_count": null,
      "metadata": {
        "id": "IsM5kRkz0UwK"
      },
      "outputs": [],
      "source": [
        "w1 = WindowGenerator(input_width=24, label_width=1, offset=24,\n",
        "                     label_columns=['T (degC)'])\n",
        "w1"
      ]
    },
    {
      "cell_type": "code",
      "execution_count": null,
      "metadata": {
        "id": "viwKsYeAKFUn"
      },
      "outputs": [],
      "source": [
        "w2 = WindowGenerator(input_width=6, label_width=1, offset=1,\n",
        "                     label_columns=['T (degC)'])\n",
        "w2"
      ]
    },
    {
      "cell_type": "markdown",
      "metadata": {
        "id": "kJaUyTWQJd-L"
      },
      "source": [
        "### 2. **Split**\n",
        "\n",
        "Given a list of consecutive inputs, the `split_window` method will convert them to a window of inputs and a window of labels.\n",
        "\n",
        "The example `w2` you define earlier will be split like this:\n",
        "\n",
        "![The initial window is all consecutive samples, this splits it into an (inputs, labels) pairs](https://github.com/tensorflow/docs/blob/master/site/en/tutorials/structured_data/images/split_window.png?raw=1)\n",
        "\n",
        "This diagram doesn't show the `features` axis of the data, but this `split_window` function also handles the `label_columns` so it can be used for both the single output and multi-output examples."
      ]
    },
    {
      "cell_type": "code",
      "execution_count": null,
      "metadata": {
        "id": "W4KbxfzqkXPW"
      },
      "outputs": [],
      "source": [
        "def split_window(self, features):\n",
        "  inputs = features[:, self.input_slice, :]\n",
        "  labels = features[:, self.labels_slice, :]\n",
        "  if self.label_columns is not None:\n",
        "    labels = tf.stack(\n",
        "        [labels[:, :, self.column_indices[name]] for name in self.label_columns],\n",
        "        axis=-1)\n",
        "\n",
        "  # Slicing doesn't preserve static shape information, so set the shapes manually\n",
        "  # This way the `tf.data.Datasets` are easier to inspect.\n",
        "  inputs.set_shape([None, self.input_width, None])\n",
        "  labels.set_shape([None, self.label_width, None])\n",
        "\n",
        "  return inputs, labels\n",
        "\n",
        "WindowGenerator.split_window = split_window"
      ]
    },
    {
      "cell_type": "markdown",
      "metadata": {
        "id": "G6U6VtVuM15s"
      },
      "source": [
        "Try it out:"
      ]
    },
    {
      "cell_type": "code",
      "execution_count": null,
      "metadata": {
        "id": "YeCWbq6KLmL7"
      },
      "outputs": [],
      "source": [
        "# Stack three slices, the length of the total window.\n",
        "example_window = tf.stack([np.array(train_df[:w2.total_window_size]),\n",
        "                           np.array(train_df[100:100+w2.total_window_size]),\n",
        "                           np.array(train_df[200:200+w2.total_window_size])])\n",
        "\n",
        "example_inputs, example_labels = w2.split_window(example_window)\n",
        "\n",
        "print('All shapes are: (batch, time, features)')\n",
        "print(f'Window shape: {example_window.shape}')\n",
        "print(f'Inputs shape: {example_inputs.shape}')\n",
        "print(f'Labels shape: {example_labels.shape}')"
      ]
    },
    {
      "cell_type": "markdown",
      "metadata": {
        "id": "xtMk1ffk2Mmd"
      },
      "source": [
        "Typically, data in TensorFlow is packed into arrays where the outermost index is across examples (the \"batch\" dimension). The middle indices are the \"time\" or \"space\" (width, height) dimension(s). The innermost indices are the features.\n",
        "\n",
        "The code above took a batch of three 7-time step windows with 19 features at each time step. It splits them into a batch of 6-time step 19-feature inputs, and a 1-time step 1-feature label. The label only has one feature because the `WindowGenerator` was initialized with `label_columns=['T (degC)']`. Initially, this tutorial will build models that predict single output labels."
      ]
    },
    {
      "cell_type": "markdown",
      "metadata": {
        "id": "tFZukGXrJoGo"
      },
      "source": [
        "### 3. **Plot**\n",
        "\n",
        "Here is a plot method that allows a simple visualization of the split window:"
      ]
    },
    {
      "cell_type": "code",
      "execution_count": null,
      "metadata": {
        "id": "fmgd1qkYUWT7"
      },
      "outputs": [],
      "source": [
        "w2.example = example_inputs, example_labels"
      ]
    },
    {
      "cell_type": "code",
      "execution_count": null,
      "metadata": {
        "id": "jIrYccI-Hm3B"
      },
      "outputs": [],
      "source": [
        "def plot(self, model=None, plot_col='T (degC)', max_subplots=3):\n",
        "  inputs, labels = self.example\n",
        "  plt.figure(figsize=(12, 8))\n",
        "  plot_col_index = self.column_indices[plot_col]\n",
        "  max_n = min(max_subplots, len(inputs))\n",
        "  for n in range(max_n):\n",
        "    plt.subplot(max_n, 1, n+1)\n",
        "    plt.ylabel(f'{plot_col} [normed]')\n",
        "    plt.plot(self.input_indices, inputs[n, :, plot_col_index],\n",
        "             label='Inputs', marker='.', zorder=-10)\n",
        "\n",
        "    if self.label_columns:\n",
        "      label_col_index = self.label_columns_indices.get(plot_col, None)\n",
        "    else:\n",
        "      label_col_index = plot_col_index\n",
        "\n",
        "    if label_col_index is None:\n",
        "      continue\n",
        "\n",
        "    plt.scatter(self.label_indices, labels[n, :, label_col_index],\n",
        "                edgecolors='k', label='Labels', c='#2ca02c', s=64)\n",
        "    if model is not None:\n",
        "      predictions = model(inputs)\n",
        "      plt.scatter(self.label_indices, predictions[n, :, label_col_index],\n",
        "                  marker='X', edgecolors='k', label='Predictions',\n",
        "                  c='#ff7f0e', s=64)\n",
        "\n",
        "    if n == 0:\n",
        "      plt.legend()\n",
        "\n",
        "  plt.xlabel('Time [h]')\n",
        "\n",
        "WindowGenerator.plot = plot"
      ]
    },
    {
      "cell_type": "markdown",
      "metadata": {
        "id": "HXvctEuK68vX"
      },
      "source": [
        "This plot aligns inputs, labels, and (later) predictions based on the time that the item refers to:"
      ]
    },
    {
      "cell_type": "code",
      "execution_count": null,
      "metadata": {
        "id": "XjTqUnglOOni"
      },
      "outputs": [],
      "source": [
        "w2.plot()"
      ]
    },
    {
      "cell_type": "markdown",
      "metadata": {
        "id": "UqiqcPOldPG6"
      },
      "source": [
        "You can plot the other columns, but the example window `w2` configuration only has labels for the `T (degC)` column."
      ]
    },
    {
      "cell_type": "markdown",
      "metadata": {
        "id": "xCvD-UaUzYMw"
      },
      "source": [
        "### 4. **Create `tf.data.Dataset`s**"
      ]
    },
    {
      "cell_type": "markdown",
      "metadata": {
        "id": "kLO3SFR9Osdf"
      },
      "source": [
        "Finally, this `make_dataset` method will take a time series DataFrame and convert it to a `tf.data.Dataset` of `(input_window, label_window)` pairs using the `tf.keras.utils.timeseries_dataset_from_array` function:"
      ]
    },
    {
      "cell_type": "code",
      "execution_count": null,
      "metadata": {
        "id": "35qoSQeRVfJg"
      },
      "outputs": [],
      "source": [
        "def make_dataset(self, data):\n",
        "  data = np.array(data, dtype=np.float32)\n",
        "  ds = tf.keras.utils.timeseries_dataset_from_array(\n",
        "      data=data,\n",
        "      targets=None,\n",
        "      sequence_length=self.total_window_size,\n",
        "      sequence_stride=1,\n",
        "      shuffle=True,\n",
        "      batch_size=32,)\n",
        "\n",
        "  ds = ds.map(self.split_window)\n",
        "\n",
        "  return ds\n",
        "\n",
        "WindowGenerator.make_dataset = make_dataset"
      ]
    },
    {
      "cell_type": "markdown",
      "metadata": {
        "id": "LvsxQwJaCift"
      },
      "source": [
        "The `WindowGenerator` object holds training, validation, and test data.\n",
        "\n",
        "Add properties for accessing them as `tf.data.Dataset`s using the `make_dataset` method you defined earlier. Also, add a standard example batch for easy access and plotting:"
      ]
    },
    {
      "cell_type": "code",
      "execution_count": null,
      "metadata": {
        "id": "2jZ2KkqGCfzu"
      },
      "outputs": [],
      "source": [
        "@property\n",
        "def train(self):\n",
        "  return self.make_dataset(self.train_df)\n",
        "\n",
        "@property\n",
        "def val(self):\n",
        "  return self.make_dataset(self.val_df)\n",
        "\n",
        "@property\n",
        "def test(self):\n",
        "  return self.make_dataset(self.test_df)\n",
        "\n",
        "@property\n",
        "def example(self):\n",
        "  \"\"\"Get and cache an example batch of `inputs, labels` for plotting.\"\"\"\n",
        "  result = getattr(self, '_example', None)\n",
        "  if result is None:\n",
        "    # No example batch was found, so get one from the `.train` dataset\n",
        "    result = next(iter(self.test)) # should be test !!!\n",
        "    # And cache it for next time\n",
        "    self._example = result\n",
        "  return result\n",
        "\n",
        "WindowGenerator.train = train\n",
        "WindowGenerator.val = val\n",
        "WindowGenerator.test = test\n",
        "WindowGenerator.example = example"
      ]
    },
    {
      "cell_type": "markdown",
      "metadata": {
        "id": "fF_Vj6Iw3Y2w"
      },
      "source": [
        "Now, the `WindowGenerator` object gives you access to the `tf.data.Dataset` objects, so you can easily iterate over the data.\n",
        "\n",
        "The `Dataset.element_spec` property tells you the structure, data types, and shapes of the dataset elements."
      ]
    },
    {
      "cell_type": "code",
      "execution_count": null,
      "metadata": {
        "id": "daJ0-U383YVs"
      },
      "outputs": [],
      "source": [
        "# Each element is an (inputs, label) pair.\n",
        "w2.train.element_spec"
      ]
    },
    {
      "cell_type": "markdown",
      "metadata": {
        "id": "XKTx3_Z7ua-n"
      },
      "source": [
        "Iterating over a `Dataset` yields concrete batches:"
      ]
    },
    {
      "cell_type": "code",
      "execution_count": null,
      "metadata": {
        "id": "6gtKXEgf4Iml"
      },
      "outputs": [],
      "source": [
        "for example_inputs, example_labels in w2.train.take(1):\n",
        "  print(f'Inputs shape (batch, time, features): {example_inputs.shape}')\n",
        "  print(f'Labels shape (batch, time, features): {example_labels.shape}')"
      ]
    },
    {
      "cell_type": "markdown",
      "metadata": {
        "id": "bA62JLxYEIN4"
      },
      "source": [
        "### **Compile and Fit function**\n",
        "\n",
        "This tutorial trains many models, so package the training procedure into a function:\n",
        "\n"
      ]
    },
    {
      "cell_type": "code",
      "execution_count": null,
      "metadata": {
        "id": "CbCL6VIrk-Gt"
      },
      "outputs": [],
      "source": [
        "MAX_EPOCHS = 20\n",
        "val_performance = {}\n",
        "performance = {}\n",
        "\n",
        "def compile_and_fit(model, window, patience=2):\n",
        "  early_stopping = tf.keras.callbacks.EarlyStopping(monitor='val_loss',\n",
        "                                                    patience=patience,\n",
        "                                                    mode='min')\n",
        "  # TODO: set\n",
        "  #       - MSE loss\n",
        "  #       - Adam optimizer\n",
        "  #       - Add MAE to metrics\n",
        "  model.compile(...)\n",
        "\n",
        "  # TODO: train the model using training and validation sets\n",
        "  history = model.fit(..., callbacks=[early_stopping])\n",
        "  return history"
      ]
    },
    {
      "cell_type": "markdown",
      "metadata": {
        "id": "H4crpOcoMlSe"
      },
      "source": [
        "## **Recurrent neural network**\n",
        "\n",
        "A Recurrent Neural Network (RNN) is a type of neural network well-suited to time series data. RNNs process a time series step-by-step, maintaining an internal state from time-step to time-step.\n",
        "\n",
        "In this tutorial, you will use an RNN layer called Long Short-Term Memory (`tf.keras.layers.LSTM`)."
      ]
    },
    {
      "cell_type": "markdown",
      "metadata": {
        "id": "vfQbHSMb1ATa"
      },
      "source": [
        "An important constructor argument for all Keras RNN layers, such as `tf.keras.layers.LSTM`, is the `return_sequences` argument. This setting can configure the layer in one of two ways:\n",
        "\n",
        "1. If `False`, the default, the layer only returns the output of the final time step, giving the model time to warm up its internal state before making a single prediction:\n",
        "\n",
        "![An LSTM warming up and making a single prediction](https://github.com/tensorflow/docs/blob/master/site/en/tutorials/structured_data/images/lstm_1_window.png?raw=1)\n",
        "\n",
        "2. If `True`, the layer returns an output for each input. This is useful for:\n",
        "  * Stacking RNN layers.\n",
        "  * Training a model on multiple time steps simultaneously.\n",
        "\n",
        "![An LSTM making a prediction after every time step](https://github.com/tensorflow/docs/blob/master/site/en/tutorials/structured_data/images/lstm_many_window.png?raw=1)"
      ]
    },
    {
      "cell_type": "code",
      "source": [
        "wide_window = WindowGenerator(\n",
        "    input_width=24, label_width=24, offset=1,\n",
        "    label_columns=['T (degC)'])\n",
        "wide_window"
      ],
      "metadata": {
        "id": "2-bQRaaMObn0"
      },
      "execution_count": null,
      "outputs": []
    },
    {
      "cell_type": "code",
      "source": [
        "short_window = WindowGenerator(\n",
        "    input_width=20,\n",
        "    label_width=10,\n",
        "    offset=1,\n",
        "    label_columns=['T (degC)'])\n",
        "\n",
        "short_window"
      ],
      "metadata": {
        "id": "6dbPtj5hOn7V"
      },
      "execution_count": null,
      "outputs": []
    },
    {
      "cell_type": "code",
      "execution_count": null,
      "metadata": {
        "id": "DXKLCJy8nWNU"
      },
      "outputs": [],
      "source": [
        "# TODO: create a model to solve our problem based on LSTM\n",
        "#       Keep as reference the second image\n",
        "lstm_model = tf.keras.models.Sequential([\n",
        "    ...,\n",
        "])"
      ]
    },
    {
      "cell_type": "markdown",
      "metadata": {
        "id": "F124B00KZcLC"
      },
      "source": [
        "With `return_sequences=True`, the model can be trained on 24 hours of data at a time.\n",
        "\n",
        "Note: This will give a pessimistic view of the model's performance. On the first time step, the model has no access to previous steps and, therefore, can't do any better than the simple `linear` and `dense` models shown earlier."
      ]
    },
    {
      "cell_type": "code",
      "execution_count": null,
      "metadata": {
        "id": "eZEROCQVYV6q"
      },
      "outputs": [],
      "source": [
        "print('Input shape:', wide_window.example[0].shape)\n",
        "print('Output shape:', lstm_model(wide_window.example[0]).shape)"
      ]
    },
    {
      "cell_type": "code",
      "execution_count": null,
      "metadata": {
        "id": "uvdWRl1e9WJl"
      },
      "outputs": [],
      "source": [
        "# TODO: compile and train the model\n",
        "# HINT: use the previous defined function\n",
        "history = ...\n",
        "\n",
        "# TODO: evaluate the model on validation and testing set\n",
        "val_performance['LSTM'] = ...\n",
        "performance['LSTM'] = ..."
      ]
    },
    {
      "cell_type": "code",
      "source": [
        "lstm_model.summary()"
      ],
      "metadata": {
        "id": "37Po8d2xHk7O"
      },
      "execution_count": null,
      "outputs": []
    },
    {
      "cell_type": "code",
      "execution_count": null,
      "metadata": {
        "id": "CXA0fk3KOQaR"
      },
      "outputs": [],
      "source": [
        "# Degine a subplot grid 1x2\n",
        "plt.figure(figsize=(12, 6))\n",
        "plt.subplot(1, 2, 1)\n",
        "\n",
        "# Plot for accuracy and val_accuracy\n",
        "plt.plot(history.history['loss'], label='loss')\n",
        "plt.plot(history.history['val_loss'], label='val_loss')\n",
        "plt.xlabel('Epoch', fontsize=13)\n",
        "plt.ylabel('Loss', fontsize=13)\n",
        "# plt.ylim([0.0, 1])\n",
        "plt.legend(loc='lower right')\n",
        "\n",
        "plt.subplot(1, 2, 2)\n",
        "\n",
        "# Plot for loss and val_loss\n",
        "plt.plot(history.history['mean_absolute_error'], label='MSE')\n",
        "plt.plot(history.history['val_mean_absolute_error'], label='val_MSE')\n",
        "plt.xlabel('Epoch', fontsize=13)\n",
        "plt.ylabel('MSE', fontsize=13)\n",
        "# plt.ylim([0.0, 2])\n",
        "plt.legend(loc='upper right')\n",
        "\n",
        "plt.tight_layout()\n",
        "plt.show()"
      ]
    },
    {
      "cell_type": "code",
      "execution_count": null,
      "metadata": {
        "id": "NwAOWCVgB26e"
      },
      "outputs": [],
      "source": [
        "wide_window.plot(lstm_model)"
      ]
    },
    {
      "cell_type": "code",
      "source": [
        "lstm_model.predict(short_window.test).shape"
      ],
      "metadata": {
        "id": "9MwNGUImPKKR"
      },
      "execution_count": null,
      "outputs": []
    },
    {
      "cell_type": "code",
      "source": [
        "# TODO: define a window for the model in the first image\n",
        "lstm2_window = ...\n",
        "lstm2_window"
      ],
      "metadata": {
        "id": "02BOTcnK3jRl"
      },
      "execution_count": null,
      "outputs": []
    },
    {
      "cell_type": "code",
      "source": [
        "lstm2_window.plot()"
      ],
      "metadata": {
        "id": "xZMga0Ej3t0F"
      },
      "execution_count": null,
      "outputs": []
    },
    {
      "cell_type": "code",
      "source": [
        "# TODO: define a model to solve our problem using LSTM\n",
        "#       Keep as reference the first image\n",
        "lstm2_model = tf.keras.models.Sequential([\n",
        "    ...,\n",
        "])"
      ],
      "metadata": {
        "id": "eVepIw5M3x2r"
      },
      "execution_count": null,
      "outputs": []
    },
    {
      "cell_type": "code",
      "source": [
        "print('Input shape:', lstm2_window.example[0].shape)\n",
        "print('Output shape:', lstm2_model(lstm2_window.example[0]).shape)"
      ],
      "metadata": {
        "id": "D28dx34K38bx"
      },
      "execution_count": null,
      "outputs": []
    },
    {
      "cell_type": "code",
      "source": [
        "history = compile_and_fit(lstm2_model, lstm2_window)\n",
        "\n",
        "val_performance['LSTM2'] = lstm2_model.evaluate(lstm2_window.val, return_dict=True)\n",
        "performance['LSTM2'] = lstm2_model.evaluate(lstm2_window.test, return_dict=True)"
      ],
      "metadata": {
        "id": "65FAMoQ14Q5s"
      },
      "execution_count": null,
      "outputs": []
    },
    {
      "cell_type": "code",
      "source": [
        "lstm2_window.plot(lstm2_model)"
      ],
      "metadata": {
        "id": "sCOL9MDS4dlL"
      },
      "execution_count": null,
      "outputs": []
    },
    {
      "cell_type": "markdown",
      "metadata": {
        "id": "j5dv_whJdswH"
      },
      "source": [
        "### **Multi-step dense**\n",
        "\n",
        "One of the simplest model we can build and train is a MultiLayer Perceptron (MLP). We can pass several timestamp to the model and we want a single timestemp (in the future) as output. In this way our model has a contex and knows how the feature are changing during time.\n",
        "\n",
        "![Three time steps are used for each prediction.](https://github.com/tensorflow/docs/blob/master/site/en/tutorials/structured_data/images/conv_window.png?raw=1)\n"
      ]
    },
    {
      "cell_type": "markdown",
      "metadata": {
        "id": "Zac-ti8agbJ7"
      },
      "source": [
        "Create a `WindowGenerator` that will produce batches of three-hour inputs and one-hour labels:"
      ]
    },
    {
      "cell_type": "markdown",
      "metadata": {
        "id": "gtN4BwZ37niR"
      },
      "source": [
        "Note that the `Window`'s `shift` parameter is relative to the end of the two windows.\n"
      ]
    },
    {
      "cell_type": "code",
      "execution_count": null,
      "metadata": {
        "id": "lBh0j5djUKY2"
      },
      "outputs": [],
      "source": [
        "mlp_window = WindowGenerator(\n",
        "    input_width=3,\n",
        "    label_width=1,\n",
        "    offset=1,\n",
        "    label_columns=['T (degC)'])\n",
        "\n",
        "mlp_window"
      ]
    },
    {
      "cell_type": "code",
      "execution_count": null,
      "metadata": {
        "id": "dCQ5gvs68Xkd"
      },
      "outputs": [],
      "source": [
        "mlp_window.plot()\n",
        "plt.suptitle(\"Given 3 hours of inputs, predict 1 hour into the future.\")"
      ]
    },
    {
      "cell_type": "markdown",
      "metadata": {
        "id": "We0HdMxKeqB_"
      },
      "source": [
        "You could train a `dense` model on a multiple-input-step window by adding a `tf.keras.layers.Flatten` as the first layer of the model:"
      ]
    },
    {
      "cell_type": "code",
      "execution_count": null,
      "metadata": {
        "id": "oNQnUOkOnC1G"
      },
      "outputs": [],
      "source": [
        "# TODO: create a MLP model\n",
        "multi_step_dense = tf.keras.Sequential([\n",
        "    ...,\n",
        "])"
      ]
    },
    {
      "cell_type": "code",
      "execution_count": null,
      "metadata": {
        "id": "cayD74luo4Vq"
      },
      "outputs": [],
      "source": [
        "print('Input shape:', mlp_window.example[0].shape)\n",
        "print('Output shape:', multi_step_dense(mlp_window.example[0]).shape)"
      ]
    },
    {
      "cell_type": "code",
      "execution_count": null,
      "metadata": {
        "id": "fu91yEbRo9-J"
      },
      "outputs": [],
      "source": [
        "history = compile_and_fit(multi_step_dense, mlp_window)\n",
        "\n",
        "val_performance['Multi step dense'] = multi_step_dense.evaluate(mlp_window.val, return_dict=True)\n",
        "performance['Multi step dense'] = multi_step_dense.evaluate(mlp_window.test, return_dict=True)"
      ]
    },
    {
      "cell_type": "code",
      "execution_count": null,
      "metadata": {
        "id": "tnqdXYT6pkEh"
      },
      "outputs": [],
      "source": [
        "mlp_window.plot(multi_step_dense)"
      ]
    },
    {
      "cell_type": "markdown",
      "metadata": {
        "id": "gWfrsP8mq8lV"
      },
      "source": [
        "The main down-side of this approach is that the resulting model can only be executed on input windows of exactly this shape."
      ]
    },
    {
      "cell_type": "code",
      "execution_count": null,
      "metadata": {
        "id": "j-q6tz5Yq8Jk"
      },
      "outputs": [],
      "source": [
        "display(wide_window)\n",
        "\n",
        "print('Input shape:', wide_window.example[0].shape)\n",
        "try:\n",
        "  print('Output shape:', multi_step_dense(wide_window.example[0]).shape)\n",
        "except Exception as e:\n",
        "  print(f'\\n{type(e).__name__}:{e}')"
      ]
    },
    {
      "cell_type": "markdown",
      "metadata": {
        "id": "bvvajm3ip_8V"
      },
      "source": [
        "The convolutional models in the next section fix this problem."
      ]
    },
    {
      "cell_type": "markdown",
      "metadata": {
        "id": "CrpU6gwSJome"
      },
      "source": [
        "### **Convolution neural network**\n",
        "\n",
        "A convolution layer (`tf.keras.layers.Conv1D`) also takes multiple time steps as input to each prediction."
      ]
    },
    {
      "cell_type": "markdown",
      "metadata": {
        "id": "cdLBwoaHmsWb"
      },
      "source": [
        "Below is the **same** model as `multi_step_dense`, re-written with a convolution.\n",
        "\n",
        "Note the changes:\n",
        "* The `tf.keras.layers.Flatten` and the first `tf.keras.layers.Dense` are replaced by a `tf.keras.layers.Conv1D`.\n",
        "* The `tf.keras.layers.Reshape` is no longer necessary since the convolution keeps the time axis in its output."
      ]
    },
    {
      "cell_type": "code",
      "source": [
        "conv_window = WindowGenerator(\n",
        "    input_width=3,\n",
        "    label_width=1,\n",
        "    offset=1,\n",
        "    label_columns=['T (degC)'])\n",
        "\n",
        "conv_window"
      ],
      "metadata": {
        "id": "jPDdPwHSQbn6"
      },
      "execution_count": null,
      "outputs": []
    },
    {
      "cell_type": "code",
      "execution_count": null,
      "metadata": {
        "id": "5azaMBj4ac9t"
      },
      "outputs": [],
      "source": [
        "# TODO: create a model based on Convolution layer\n",
        "conv_model = tf.keras.Sequential([\n",
        "    ...,\n",
        "])"
      ]
    },
    {
      "cell_type": "markdown",
      "metadata": {
        "id": "ftaH6B5ECRiK"
      },
      "source": [
        "Run it on an example batch to check that the model produces outputs with the expected shape:"
      ]
    },
    {
      "cell_type": "code",
      "execution_count": null,
      "metadata": {
        "id": "5YNgt1-e98lH"
      },
      "outputs": [],
      "source": [
        "print(\"Conv model on `conv_window`\")\n",
        "print('Input shape:', conv_window.example[0].shape)\n",
        "print('Output shape:', conv_model(conv_window.example[0]).shape)"
      ]
    },
    {
      "cell_type": "markdown",
      "metadata": {
        "id": "5m4kC-jGCY3x"
      },
      "source": [
        "Train and evaluate it on the ` conv_window` and it should give performance similar to the `multi_step_dense` model."
      ]
    },
    {
      "cell_type": "code",
      "execution_count": null,
      "metadata": {
        "id": "QDVWdm4paUW7"
      },
      "outputs": [],
      "source": [
        "history = compile_and_fit(conv_model, conv_window)\n",
        "\n",
        "val_performance['Conv'] = conv_model.evaluate(conv_window.val, return_dict=True)\n",
        "performance['Conv'] = conv_model.evaluate(conv_window.test, return_dict=True)"
      ]
    },
    {
      "cell_type": "code",
      "source": [
        "conv_model.summary()"
      ],
      "metadata": {
        "id": "u8xEqd9xAAKp"
      },
      "execution_count": null,
      "outputs": []
    },
    {
      "cell_type": "markdown",
      "metadata": {
        "id": "sYRipDeXs0Kr"
      },
      "source": [
        "The difference between this `conv_model` and the `multi_step_dense` model is that the `conv_model` can be run on inputs of any length. The convolutional layer is applied to a sliding window of inputs:\n",
        "\n",
        "![Executing a convolutional model on a sequence](https://github.com/tensorflow/docs/blob/master/site/en/tutorials/structured_data/images/wide_conv_window.png?raw=1)\n",
        "\n",
        "If you run it on wider input, it produces wider output:"
      ]
    },
    {
      "cell_type": "code",
      "execution_count": null,
      "metadata": {
        "id": "hoqccxx9r5jF"
      },
      "outputs": [],
      "source": [
        "print(\"Wide window\")\n",
        "print('Input shape:', wide_window.example[0].shape)\n",
        "print('Labels shape:', wide_window.example[1].shape)\n",
        "print('Output shape:', conv_model(wide_window.example[0]).shape)"
      ]
    },
    {
      "cell_type": "code",
      "source": [
        "wide_window.plot(conv_model)"
      ],
      "metadata": {
        "id": "zlBXQVWXCb7V"
      },
      "execution_count": null,
      "outputs": []
    },
    {
      "cell_type": "markdown",
      "metadata": {
        "id": "pYglOCKehi8F"
      },
      "source": [
        "### Performance"
      ]
    },
    {
      "cell_type": "markdown",
      "metadata": {
        "id": "2pCk0_rwhi8H"
      },
      "source": [
        "With this dataset typically each of the models does slightly better than the one before it:"
      ]
    },
    {
      "cell_type": "code",
      "execution_count": null,
      "metadata": {
        "id": "6is3g113eIIa"
      },
      "outputs": [],
      "source": [
        "val_performance"
      ]
    },
    {
      "cell_type": "code",
      "execution_count": null,
      "metadata": {
        "id": "JjEkt488hi8I"
      },
      "outputs": [],
      "source": [
        "x = np.arange(len(performance))\n",
        "width = 0.3\n",
        "metric_name = 'mean_absolute_error'\n",
        "val_mae = [v[metric_name] for v in val_performance.values()]\n",
        "test_mae = [v[metric_name] for v in performance.values()]\n",
        "\n",
        "plt.ylabel('mean_absolute_error [T (degC), normalized]')\n",
        "plt.bar(x - 0.17, val_mae, width, label='Validation')\n",
        "plt.bar(x + 0.17, test_mae, width, label='Test')\n",
        "plt.xticks(ticks=x, labels=performance.keys(),\n",
        "           rotation=45)\n",
        "_ = plt.legend()"
      ]
    },
    {
      "cell_type": "code",
      "execution_count": null,
      "metadata": {
        "id": "cBMCpsdphi8L"
      },
      "outputs": [],
      "source": [
        "for name, value in performance.items():\n",
        "  print(f'{name:12s}: {value[metric_name]:0.4f}')"
      ]
    },
    {
      "cell_type": "markdown",
      "metadata": {
        "id": "XmcjHfDskX1N"
      },
      "source": [
        "Note above that the `features` axis of the labels now has the same depth as the inputs, instead of `1`."
      ]
    },
    {
      "cell_type": "markdown",
      "metadata": {
        "id": "b5rUJ_2YMWzG"
      },
      "source": [
        "### **Multi-output models**\n",
        "\n",
        "The models so far all predicted a single output feature, `T (degC)`, for a single time step.\n",
        "\n",
        "All of these models can be converted to predict multiple features just by changing the number of units in the output layer and adjusting the training windows to include all features in the `labels` (`example_labels`):"
      ]
    },
    {
      "cell_type": "code",
      "execution_count": null,
      "metadata": {
        "id": "9Gk0Z91xjOwv"
      },
      "outputs": [],
      "source": [
        "wide_window_all = WindowGenerator(\n",
        "    input_width=24, label_width=24, offset=1)\n",
        "\n",
        "for example_inputs, example_labels in wide_window_all.train.take(1):\n",
        "  print(f'Inputs shape (batch, time, features): {example_inputs.shape}')\n",
        "  print(f'Labels shape (batch, time, features): {example_labels.shape}')"
      ]
    },
    {
      "cell_type": "markdown",
      "metadata": {
        "id": "eYokb7Om2YbK"
      },
      "source": [
        "## **Multi-step models**\n",
        "\n",
        "Both the single-output and multiple-output models in the previous sections made **single time step predictions**, one hour into the future.\n",
        "\n",
        "This section looks at how to expand these models to make **multiple time step predictions**.\n",
        "\n",
        "In a multi-step prediction, the model needs to learn to predict a range of future values. Thus, unlike a single step model, where only a single future point is predicted, a multi-step model predicts a sequence of the future values.\n",
        "\n",
        "There are two rough approaches to this:\n",
        "\n",
        "1. Single shot predictions where the entire time series is predicted at once.\n",
        "2. Autoregressive predictions where the model only makes single step predictions and its output is fed back as its input.\n",
        "\n",
        "In this section all the models will predict **all the features across all output time steps**.\n"
      ]
    },
    {
      "cell_type": "markdown",
      "metadata": {
        "id": "WFsDAwVt4_rq"
      },
      "source": [
        "For the multi-step model, the training data again consists of hourly samples. However, here, the models will learn to predict 24 hours into the future, given 24 hours of the past.\n",
        "\n",
        "Here is a `Window` object that generates these slices from the dataset:"
      ]
    },
    {
      "cell_type": "code",
      "execution_count": null,
      "metadata": {
        "id": "1cFYtsz6XiGw"
      },
      "outputs": [],
      "source": [
        "OUT_STEPS = 24\n",
        "multi_window = WindowGenerator(input_width=24,\n",
        "                               label_width=OUT_STEPS,\n",
        "                               offset=OUT_STEPS)\n",
        "\n",
        "multi_window.plot()\n",
        "multi_window"
      ]
    },
    {
      "cell_type": "code",
      "source": [
        "multi_val_performance = {}\n",
        "multi_performance = {}"
      ],
      "metadata": {
        "id": "SF8TWRlN3NXv"
      },
      "execution_count": null,
      "outputs": []
    },
    {
      "cell_type": "markdown",
      "metadata": {
        "id": "tbndS-ct9C2Q"
      },
      "source": [
        "### **Single-shot models**\n",
        "\n",
        "One high-level approach to this problem is to use a \"***single-shot***\" model, where the model makes the entire sequence prediction in a single step.\n",
        "\n",
        "This can be implemented efficiently as a `tf.keras.layers.Dense` with `OUT_STEPS*features` output units. The model just needs to reshape that output to the required `(OUTPUT_STEPS, features)`."
      ]
    },
    {
      "cell_type": "markdown",
      "metadata": {
        "id": "zi2TMHk2IRrh"
      },
      "source": [
        "#### **Dense**\n",
        "\n",
        "![Predict all timesteps from the last time-step](https://github.com/tensorflow/docs/blob/master/site/en/tutorials/structured_data/images/multistep_dense.png?raw=1)"
      ]
    },
    {
      "cell_type": "code",
      "execution_count": null,
      "metadata": {
        "id": "jezm-BKaGj91"
      },
      "outputs": [],
      "source": [
        "multi_dense_model = tf.keras.Sequential([\n",
        "    # Take the last time step.\n",
        "    # Shape [batch, time, features] => [batch, 1, features]\n",
        "    tf.keras.layers.Lambda(lambda x: x[:, -1:, :]),\n",
        "    # Shape => [batch, 1, dense_units]\n",
        "    tf.keras.layers.Dense(512, activation='relu'),\n",
        "    # Shape => [batch, out_steps*features]\n",
        "    tf.keras.layers.Dense(OUT_STEPS*num_features,\n",
        "                          kernel_initializer=tf.initializers.zeros()),\n",
        "    # Shape => [batch, out_steps, features]\n",
        "    tf.keras.layers.Reshape([OUT_STEPS, num_features])\n",
        "])\n",
        "\n",
        "history = compile_and_fit(multi_dense_model, multi_window)\n",
        "\n",
        "IPython.display.clear_output()\n",
        "multi_val_performance['Dense'] = multi_dense_model.evaluate(multi_window.val, return_dict=True)\n",
        "multi_performance['Dense'] = multi_dense_model.evaluate(multi_window.test, verbose=0, return_dict=True)\n",
        "multi_window.plot(multi_dense_model)"
      ]
    },
    {
      "cell_type": "markdown",
      "metadata": {
        "id": "icsBAjCzMaMl"
      },
      "source": [
        "#### **CNN**"
      ]
    },
    {
      "cell_type": "markdown",
      "metadata": {
        "id": "34lCZrWYNBwd"
      },
      "source": [
        "A convolutional model makes predictions based on a fixed-width history, which may lead to better performance than the dense model since it can see how things are changing over time:\n",
        "\n",
        "![A convolutional model sees how things change over time](https://github.com/tensorflow/docs/blob/master/site/en/tutorials/structured_data/images/multistep_conv.png?raw=1)"
      ]
    },
    {
      "cell_type": "code",
      "execution_count": null,
      "metadata": {
        "id": "0xJoIP6PMWMI"
      },
      "outputs": [],
      "source": [
        "CONV_WIDTH = 3\n",
        "multi_conv_model = tf.keras.Sequential([\n",
        "    # Shape [batch, time, features] => [batch, CONV_WIDTH, features]\n",
        "    tf.keras.layers.Lambda(lambda x: x[:, -CONV_WIDTH:, :]),\n",
        "    # Shape => [batch, 1, conv_units]\n",
        "    tf.keras.layers.Conv1D(256, activation='relu', kernel_size=(CONV_WIDTH)),\n",
        "    # Shape => [batch, 1,  out_steps*features]\n",
        "    tf.keras.layers.Dense(OUT_STEPS*num_features,\n",
        "                          kernel_initializer=tf.initializers.zeros()),\n",
        "    # Shape => [batch, out_steps, features]\n",
        "    tf.keras.layers.Reshape([OUT_STEPS, num_features])\n",
        "])\n",
        "\n",
        "history = compile_and_fit(multi_conv_model, multi_window)\n",
        "\n",
        "IPython.display.clear_output()\n",
        "\n",
        "multi_val_performance['Conv'] = multi_conv_model.evaluate(multi_window.val, return_dict=True)\n",
        "multi_performance['Conv'] = multi_conv_model.evaluate(multi_window.test, verbose=0, return_dict=True)\n",
        "multi_window.plot(multi_conv_model)"
      ]
    },
    {
      "cell_type": "markdown",
      "metadata": {
        "id": "weBjeZAFJOP4"
      },
      "source": [
        "### **RNN**"
      ]
    },
    {
      "cell_type": "markdown",
      "metadata": {
        "id": "8022xOKxOO92"
      },
      "source": [
        "A recurrent model can learn to use a long history of inputs, if it's relevant to the predictions the model is making. Here the model will accumulate internal state for 24 hours, before making a single prediction for the next 24 hours.\n",
        "\n",
        "In this single-shot format, the LSTM only needs to produce an output at the last time step, so set `return_sequences=False` in `tf.keras.layers.LSTM`.\n",
        "\n",
        "![The LSTM accumulates state over the input window, and makes a single prediction for the next 24 hours](https://github.com/tensorflow/docs/blob/master/site/en/tutorials/structured_data/images/multistep_lstm.png?raw=1)\n"
      ]
    },
    {
      "cell_type": "code",
      "execution_count": null,
      "metadata": {
        "id": "Bf1ks6RTzF64"
      },
      "outputs": [],
      "source": [
        "multi_lstm_model = tf.keras.Sequential([\n",
        "    # Shape [batch, time, features] => [batch, lstm_units].\n",
        "    # Adding more `lstm_units` just overfits more quickly.\n",
        "    tf.keras.layers.LSTM(32, return_sequences=False),\n",
        "    # Shape => [batch, out_steps*features].\n",
        "    tf.keras.layers.Dense(OUT_STEPS*num_features,\n",
        "                          kernel_initializer=tf.initializers.zeros()),\n",
        "    # Shape => [batch, out_steps, features].\n",
        "    tf.keras.layers.Reshape([OUT_STEPS, num_features])\n",
        "])\n",
        "\n",
        "history = compile_and_fit(multi_lstm_model, multi_window)\n",
        "\n",
        "IPython.display.clear_output()\n",
        "\n",
        "multi_val_performance['LSTM'] = multi_lstm_model.evaluate(multi_window.val, return_dict=True)\n",
        "multi_performance['LSTM'] = multi_lstm_model.evaluate(multi_window.test, verbose=0, return_dict=True)\n",
        "multi_window.plot(multi_lstm_model)"
      ]
    },
    {
      "cell_type": "code",
      "source": [
        "x = np.arange(len(multi_performance))\n",
        "width = 0.3\n",
        "metric_name = 'mean_absolute_error'\n",
        "val_mae = [v[metric_name] for v in multi_val_performance.values()]\n",
        "test_mae = [v[metric_name] for v in multi_performance.values()]\n",
        "\n",
        "plt.ylabel('mean_absolute_error [T (degC), normalized]')\n",
        "plt.bar(x - 0.17, val_mae, width, label='Validation')\n",
        "plt.bar(x + 0.17, test_mae, width, label='Test')\n",
        "plt.xticks(ticks=x, labels=multi_performance.keys(),\n",
        "           rotation=45)\n",
        "_ = plt.legend()"
      ],
      "metadata": {
        "id": "HpOVVw1p83QG"
      },
      "execution_count": null,
      "outputs": []
    },
    {
      "cell_type": "code",
      "source": [],
      "metadata": {
        "id": "xgoN0lc28_J1"
      },
      "execution_count": null,
      "outputs": []
    }
  ],
  "metadata": {
    "colab": {
      "provenance": [],
      "gpuType": "T4"
    },
    "kernelspec": {
      "display_name": "Python 3",
      "name": "python3"
    },
    "language_info": {
      "codemirror_mode": {
        "name": "ipython",
        "version": 3
      },
      "file_extension": ".py",
      "mimetype": "text/x-python",
      "name": "python",
      "nbconvert_exporter": "python",
      "pygments_lexer": "ipython3",
      "version": "3.8.10"
    },
    "accelerator": "GPU"
  },
  "nbformat": 4,
  "nbformat_minor": 0
}