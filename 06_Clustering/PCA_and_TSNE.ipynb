{
 "cells": [
  {
   "cell_type": "markdown",
   "metadata": {
    "id": "G1rclzUxi9UD"
   },
   "source": [
    "**Iris Dataset Visualization : PCA vs t-SNE**"
   ]
  },
  {
   "cell_type": "code",
   "execution_count": 1,
   "metadata": {
    "id": "LUCQ6veujHWq"
   },
   "outputs": [],
   "source": [
    "%matplotlib inline\n",
    "# this is a magic command specific to Jupyter Notebooks and JupyterLab.\n",
    "# When you include this command at the beginning of a notebook cell and then run the cell,\n",
    "# it configures the notebook to display Matplotlib plots directly within the notebook interface,\n",
    "# rather than opening them in a separate window.\n",
    "import pandas as pd\n",
    "from sklearn.datasets import load_iris\n",
    "from sklearn.decomposition import PCA\n",
    "from sklearn.manifold import TSNE\n",
    "\n",
    "import matplotlib.pyplot as plt\n",
    "import seaborn as sns\n",
    "# Python data visualization library based on Matplotlib.\n",
    "# It provides a high-level interface for creating attractive statistical graphics.\n",
    "\n",
    "import plotly.express as px\n",
    "# is a high-level Python visualization library built on top of Plotly,\n",
    "# a powerful interactive visualization library. It provides a simple\n",
    "# and concise interface for creating a wide range of interactive plots with minimal code.\n",
    "from matplotlib.colors import ListedColormap"
   ]
  },
  {
   "cell_type": "code",
   "execution_count": 3,
   "metadata": {
    "id": "KycaqUVOjPtY"
   },
   "outputs": [],
   "source": [
    "sns.set_theme()\n",
    "sns.set_theme(rc={\"figure.figsize\": (10, 8)})\n",
    "PALETTE = sns.color_palette('deep', n_colors=3)\n",
    "CMAP = ListedColormap(PALETTE.as_hex())\n",
    "\n",
    "RANDOM_STATE = 42"
   ]
  },
  {
   "cell_type": "markdown",
   "metadata": {
    "id": "fb9B7dErjUNh"
   },
   "source": [
    "**Load and prepare the dataset**"
   ]
  },
  {
   "cell_type": "code",
   "execution_count": null,
   "metadata": {
    "colab": {
     "base_uri": "https://localhost:8080/"
    },
    "id": "fmKUI2iFjWT_",
    "outputId": "5aa5ab73-e9b1-4909-b039-18c44b1559d5"
   },
   "outputs": [],
   "source": [
    "#using iris dataset from sklearn\n",
    "dataset = load_iris()\n",
    "print(dataset.feature_names)\n",
    "\n",
    "features = ['sepal_length', 'sepal_width', 'petal_length', 'petal_width']\n",
    "target = 'species'\n",
    "\n",
    "iris = pd.DataFrame(dataset.data, columns=features)\n",
    "display(iris.head())\n",
    "\n",
    "iris[target] = dataset.target\n",
    "display(iris.head())\n",
    "display(iris.tail())"
   ]
  },
  {
   "cell_type": "markdown",
   "metadata": {
    "id": "z1dP3suYkFpW"
   },
   "source": [
    "**Plotting functions**"
   ]
  },
  {
   "cell_type": "code",
   "execution_count": 7,
   "metadata": {
    "id": "ov8MCLhTkH-u"
   },
   "outputs": [],
   "source": [
    "def plot_iris_2d(x, y, title, xlabel=\"1st dimension\", ylabel=\"2nd dimension\"):\n",
    "    plt.scatter(x, y,\n",
    "        c=iris['species'],\n",
    "        cmap=CMAP,\n",
    "        s=70)\n",
    "\n",
    "    plt.title(title, fontsize=20, y=1.03)\n",
    "    plt.xlabel(xlabel, fontsize=16)\n",
    "    plt.ylabel(ylabel, fontsize=16)\n",
    "\n",
    "def plot_iris_3d(x, y, z, title):\n",
    "    fig = plt.figure(1, figsize=(8, 6))\n",
    "    ax = fig.add_subplot(111, projection='3d')\n",
    "    # This line adds a 3D subplot to the figure created in the previous line.\n",
    "    # 111 indicates that we want a subplot grid with 1 row, 1 column, and we're selecting the first subplot.\n",
    "    ax.scatter(x, y, z,\n",
    "               c=iris['species'],\n",
    "               cmap=CMAP,\n",
    "               s=40)\n",
    "    ax.set_title(title, fontsize=20, y=1.03)\n",
    "    fsize = 14\n",
    "    ax.set_xlabel(\"1st dimension\", fontsize=fsize)\n",
    "    ax.set_ylabel(\"2nd dimension\", fontsize=fsize)\n",
    "    ax.set_zlabel(\"3rd dimension\", fontsize=fsize)\n",
    "    ax.xaxis.set_ticklabels([])\n",
    "    ax.yaxis.set_ticklabels([])\n",
    "    ax.zaxis.set_ticklabels([])\n",
    "\n",
    "def dynamic_plot_iris_3d(dataset, x, y, z, title):\n",
    "  y_str = iris['species'].astype(str)\n",
    "  fig = px.scatter_3d(dataset, x=x, y= y, z=z,\n",
    "              color=y_str, symbol =y_str,\n",
    "              labels=dict(x=\"1st dimension\", y=\"2nd dimension\", z=\"3rd dimension\", symbol = \"class\"))\n",
    "  fig.update_layout(legend=dict(\n",
    "    yanchor=\"top\",\n",
    "    y=0.99,\n",
    "    xanchor=\"left\",\n",
    "    x=0.01\n",
    "  ))\n",
    "  fig.show()\n"
   ]
  },
  {
   "cell_type": "markdown",
   "metadata": {
    "id": "sbDZdHuMkWCc"
   },
   "source": [
    "**Exploring some two-dimension (two components) visualizations**"
   ]
  },
  {
   "cell_type": "code",
   "execution_count": null,
   "metadata": {
    "colab": {
     "base_uri": "https://localhost:8080/",
     "height": 755
    },
    "id": "Tzw9jYYxkbaZ",
    "outputId": "1159c14d-2d4c-4b5c-ad27-36db40155c26"
   },
   "outputs": [],
   "source": [
    "#TO DO : visuali\n",
    "plot_iris_2d(\n",
    "    x = iris['sepal_length'],\n",
    "    y = iris['sepal_width'],\n",
    "    title = 'Plotting first two components',\n",
    "    xlabel = 'Sepal length',\n",
    "    ylabel = 'Sepal width')"
   ]
  },
  {
   "cell_type": "markdown",
   "metadata": {
    "id": "WRdNK7Clkjar"
   },
   "source": [
    "**PCA for dimensionality reduction: 2D plotting**"
   ]
  },
  {
   "cell_type": "code",
   "execution_count": null,
   "metadata": {
    "colab": {
     "base_uri": "https://localhost:8080/",
     "height": 773
    },
    "id": "xuyWEWk_kvVE",
    "outputId": "a7a65225-2884-4bdc-d47c-25b03a3f4be6"
   },
   "outputs": [],
   "source": [
    "pca = PCA(n_components=2)\n",
    "points = pca.fit_transform(iris[features])\n",
    "print(points.shape)\n",
    "\n",
    "plot_iris_2d(\n",
    "    x = points[:,0],\n",
    "    y = points[:,1],\n",
    "    title = 'Iris dataset visualized with PCA')\n",
    "\n"
   ]
  },
  {
   "cell_type": "markdown",
   "metadata": {
    "id": "45kQ-ftxlXta"
   },
   "source": [
    "**2D Plotting with t-SNE**"
   ]
  },
  {
   "cell_type": "code",
   "execution_count": null,
   "metadata": {
    "colab": {
     "base_uri": "https://localhost:8080/",
     "height": 755
    },
    "id": "2bq5f4Y9lbPi",
    "outputId": "ccf60c8f-e4cc-4c95-9983-52da36cc63c2"
   },
   "outputs": [],
   "source": [
    "tsne = TSNE(n_components=2, max_iter=1000, random_state=RANDOM_STATE)\n",
    "points = tsne.fit_transform(iris[features])\n",
    "\n",
    "plot_iris_2d(\n",
    "    x = points[:, 0],\n",
    "    y = points[:, 1],\n",
    "    title = 'Iris dataset visualized with t-SNE')\n",
    "\n"
   ]
  },
  {
   "cell_type": "markdown",
   "metadata": {
    "id": "N3jJrt-al3iO"
   },
   "source": [
    "**PCA: 3D Plotting***"
   ]
  },
  {
   "cell_type": "code",
   "execution_count": null,
   "metadata": {
    "colab": {
     "base_uri": "https://localhost:8080/",
     "height": 505
    },
    "id": "1Hu8V87ll8SI",
    "outputId": "1d0b836f-78ed-4d2e-b0cc-c94eb66781e4"
   },
   "outputs": [],
   "source": [
    "pca = PCA(n_components=3)\n",
    "points = pca.fit_transform(iris[features])\n",
    "\n",
    "plot_iris_3d(\n",
    "    x = points[:,0],\n",
    "    y = points[:,1],\n",
    "    z = points[:,2],\n",
    "    title = \"Iris dataset visualized with PCA\")"
   ]
  },
  {
   "cell_type": "code",
   "execution_count": null,
   "metadata": {
    "colab": {
     "base_uri": "https://localhost:8080/",
     "height": 542
    },
    "id": "YaXCiQ_soGTZ",
    "outputId": "f621a3b6-87be-44a3-bb2d-c02867320075"
   },
   "outputs": [],
   "source": [
    "dynamic_plot_iris_3d(\n",
    "    points,\n",
    "    x = points[:,0],\n",
    "    y = points[:,1],\n",
    "    z = points[:,2],\n",
    "    title =\"Dynamic 3d visualization with PCA\")"
   ]
  },
  {
   "cell_type": "markdown",
   "metadata": {
    "id": "rbNqppromBme"
   },
   "source": [
    "**t-SNE: 3D Plotting**"
   ]
  },
  {
   "cell_type": "code",
   "execution_count": null,
   "metadata": {
    "colab": {
     "base_uri": "https://localhost:8080/",
     "height": 505
    },
    "id": "KMEChI8OmE_V",
    "outputId": "7dcf173a-82eb-4c01-bf3d-a4eb0e4acb55"
   },
   "outputs": [],
   "source": [
    "tsne = TSNE(n_components=3, max_iter=5000, random_state=RANDOM_STATE)\n",
    "points = tsne.fit_transform(iris[features])\n",
    "\n",
    "plot_iris_3d(\n",
    "    x = points[:,0],\n",
    "    y = points[:,1],\n",
    "    z = points[:,2],\n",
    "    title = \"Iris dataset visualized with t-SNE\")"
   ]
  },
  {
   "cell_type": "code",
   "execution_count": null,
   "metadata": {
    "colab": {
     "base_uri": "https://localhost:8080/",
     "height": 542
    },
    "id": "8g_GDCfBnlHD",
    "outputId": "5c932cea-4037-44ff-de41-829be067185c"
   },
   "outputs": [],
   "source": [
    "dynamic_plot_iris_3d(\n",
    "    points,\n",
    "    x = points[:,0],\n",
    "    y = points[:,1],\n",
    "    z = points[:,2],\n",
    "    title =\"Dynamic 3d visualization with t-SNE\")"
   ]
  }
 ],
 "metadata": {
  "colab": {
   "provenance": []
  },
  "kernelspec": {
   "display_name": "tensorflow",
   "language": "python",
   "name": "tensorflow"
  },
  "language_info": {
   "codemirror_mode": {
    "name": "ipython",
    "version": 3
   },
   "file_extension": ".py",
   "mimetype": "text/x-python",
   "name": "python",
   "nbconvert_exporter": "python",
   "pygments_lexer": "ipython3",
   "version": "3.11.5"
  }
 },
 "nbformat": 4,
 "nbformat_minor": 4
}
