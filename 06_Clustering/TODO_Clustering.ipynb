{
  "cells": [
    {
      "cell_type": "markdown",
      "metadata": {
        "id": "QmsCOCvenrKk"
      },
      "source": [
        "# Clustering with Machine Learning\n",
        "\n",
        "This notebook provides an introduction to clustering techniques in machine learning.\n",
        "We will explore **KMeans**, **DBSCAN**, and **Hierarchical Clustering** algorithms to partition datasets into homogeneous groups.\n",
        "\n",
        "Clustering is essential for various applications, from market segmentation to data analysis. Let's dive in!\n"
      ]
    },
    {
      "cell_type": "code",
      "execution_count": null,
      "metadata": {
        "id": "jOXcTgO4zxZB"
      },
      "outputs": [],
      "source": [
        "import pandas as pd\n",
        "import numpy as np\n",
        "import matplotlib.pyplot as plt\n",
        "\n",
        "np.random.seed(91169)"
      ]
    },
    {
      "cell_type": "markdown",
      "metadata": {
        "id": "BKAucsXmnrK1"
      },
      "source": [
        "##### Unzip the Dataset if you need to do it"
      ]
    },
    {
      "cell_type": "code",
      "execution_count": null,
      "metadata": {
        "id": "WtBA2mUunrK1"
      },
      "outputs": [],
      "source": [
        "import zipfile\n",
        "with zipfile.ZipFile('dataset/dataset_clustering.zip', 'r') as zip_ref:\n",
        "    zip_ref.extractall('dataset/')"
      ]
    },
    {
      "cell_type": "markdown",
      "metadata": {
        "id": "MdDYnvrBnrK1"
      },
      "source": [
        "### Data Loading and Exploration"
      ]
    },
    {
      "cell_type": "code",
      "execution_count": null,
      "metadata": {
        "id": "pioLAXLenrK1"
      },
      "outputs": [],
      "source": [
        "# Define a function to plot some lines of a given file\n",
        "def file_preview(filename):\n",
        "    !sed -n 1,10p \"$filename\""
      ]
    },
    {
      "cell_type": "code",
      "execution_count": null,
      "metadata": {
        "id": "xZvKD7fEnrK1"
      },
      "outputs": [],
      "source": [
        "# TODO: visualize some rows of our csv file: blob_data2D\n",
        "file_preview(...)"
      ]
    },
    {
      "cell_type": "code",
      "execution_count": null,
      "metadata": {
        "id": "R2-KeANY0Lx2"
      },
      "outputs": [],
      "source": [
        "# TODO: load csv file into a Pandas DataFrame\n",
        "dataset1 = ...\n",
        "\n",
        "# TODO: rename columns into \"Labels\", \"X\" and \"Y\"\n",
        "...\n",
        "dataset1.head()"
      ]
    },
    {
      "cell_type": "code",
      "execution_count": null,
      "metadata": {
        "id": "iuxmCse00e3B",
        "colab": {
          "base_uri": "https://localhost:8080/"
        },
        "outputId": "ed33a7c8-6b3e-43a0-d250-c430e0fbbebd"
      },
      "outputs": [
        {
          "output_type": "stream",
          "name": "stdout",
          "text": [
            "(4000, 3)\n",
            "<class 'pandas.core.frame.DataFrame'>\n"
          ]
        }
      ],
      "source": [
        "# TODO: print Data shape and type\n",
        "..."
      ]
    },
    {
      "cell_type": "markdown",
      "metadata": {
        "id": "ZX_Yx52bnrK1"
      },
      "source": [
        "#### Visualize data using scatter plot\n"
      ]
    },
    {
      "cell_type": "code",
      "execution_count": null,
      "metadata": {
        "id": "85oT6Voo0waU"
      },
      "outputs": [],
      "source": [
        "# TODO: visualize, into 2 different plots, our dataset and labeled points\n",
        "fig, axs = plt.subplots(1,2, figsize=(8,3))\n",
        "...\n",
        "axs[0].set_title(\"Points\")\n",
        "\n",
        "...\n",
        "axs[1].set_title(\"Labeled Points\")\n",
        "\n",
        "\n",
        "plt.tight_layout()\n",
        "plt.show()"
      ]
    },
    {
      "cell_type": "markdown",
      "metadata": {
        "id": "4Dj00R3VnrK1"
      },
      "source": [
        "## *Clustering Techniques*"
      ]
    },
    {
      "cell_type": "markdown",
      "metadata": {
        "id": "-sUxb5O_nrK1"
      },
      "source": [
        "## **Kmeans**\n",
        "\n",
        "Look at [documentation](https://scikit-learn.org/stable/modules/generated/sklearn.cluster.KMeans.html#sklearn.cluster.KMeans)"
      ]
    },
    {
      "cell_type": "markdown",
      "metadata": {
        "id": "1OiOoKWqnrK1"
      },
      "source": [
        "Write a function to call KMeans constructor and fit method"
      ]
    },
    {
      "cell_type": "code",
      "source": [
        "from sklearn.cluster import KMeans"
      ],
      "metadata": {
        "id": "sqaHPpMG44M0"
      },
      "execution_count": null,
      "outputs": []
    },
    {
      "cell_type": "code",
      "execution_count": null,
      "metadata": {
        "id": "k57SQp2gBJ2X"
      },
      "outputs": [],
      "source": [
        "def build_kmeans(n_clusters, data, init=\"k-means++\" , n_init=\"auto\", max_iter=300):\n",
        "  # TODO: instantiate a KMeans object\n",
        "  kmeans = KMeans(...)\n",
        "\n",
        "  # TODO: fit KMeans with given data\n",
        "  kmeans = ...\n",
        "  return kmeans"
      ]
    },
    {
      "cell_type": "markdown",
      "metadata": {
        "id": "eXGCUn80nrK1"
      },
      "source": [
        "Convert in numpy array and delete one column in order to have 2-dimensional data\n"
      ]
    },
    {
      "cell_type": "code",
      "execution_count": null,
      "metadata": {
        "id": "CYITE_sH1_g4"
      },
      "outputs": [],
      "source": [
        "# TODO: convert our DataFrame to numpy array\n",
        "processed_data = ...\n",
        "print(dataset1[:5],'\\n')\n",
        "\n",
        "# TODO: remove the label column\n",
        "processed_data = ...\n",
        "print(processed_data[:5])"
      ]
    },
    {
      "cell_type": "markdown",
      "metadata": {
        "id": "glZiUT3XnrK1"
      },
      "source": [
        "#### Normalizing Data\n",
        "Data normalization is a crucial preprocessing step that brings data to a common scale, enabling fair comparisons and enhancing the performance of machine learning models."
      ]
    },
    {
      "cell_type": "code",
      "execution_count": null,
      "metadata": {
        "id": "z9rBjABrnrK1"
      },
      "outputs": [],
      "source": [
        "from sklearn.preprocessing import StandardScaler"
      ]
    },
    {
      "cell_type": "code",
      "execution_count": null,
      "metadata": {
        "id": "7imvYbZynrK1"
      },
      "outputs": [],
      "source": [
        "# TODO: use the StandardScaler to standardize data\n",
        "scaler = ...\n",
        "processed_data = ..."
      ]
    },
    {
      "cell_type": "markdown",
      "metadata": {
        "id": "L3CT6WysnrK1"
      },
      "source": [
        "Create 4 clusters from data using the previously defined function"
      ]
    },
    {
      "cell_type": "code",
      "execution_count": null,
      "metadata": {
        "id": "ufht4tu_1sKH"
      },
      "outputs": [],
      "source": [
        "# TODO: use our function to define a KMeans with 4 centroids using our pre-processed data\n",
        "kmeans4 = ..."
      ]
    },
    {
      "cell_type": "code",
      "execution_count": null,
      "metadata": {
        "id": "ZUUO68WdnrK1"
      },
      "outputs": [],
      "source": [
        "# Print the centers of the clusters\n",
        "kmeans4.cluster_centers_"
      ]
    },
    {
      "cell_type": "code",
      "execution_count": null,
      "metadata": {
        "id": "p3_LHj0rnrK1"
      },
      "outputs": [],
      "source": [
        "# calling labels_ attribute we can see the cluster label of each point\n",
        "print(kmeans4.labels_.shape )\n",
        "print(kmeans4.labels_)"
      ]
    },
    {
      "cell_type": "code",
      "execution_count": null,
      "metadata": {
        "id": "tooaC3DYnrK1"
      },
      "outputs": [],
      "source": [
        "# TODO: plot the found centers\n",
        "...\n",
        "plt.title(\"Centers\")\n",
        "plt.show()"
      ]
    },
    {
      "cell_type": "code",
      "execution_count": null,
      "metadata": {
        "id": "2NNCbGTLnrK1"
      },
      "outputs": [],
      "source": [
        "# TODO: plot labeled points\n",
        "sc = ...\n",
        "plt.legend(*sc.legend_elements())\n",
        "\n",
        "plt.title(\"Labels\")\n",
        "plt.show()"
      ]
    },
    {
      "cell_type": "code",
      "execution_count": null,
      "metadata": {
        "id": "GBRMuXe94euV"
      },
      "outputs": [],
      "source": [
        "# TODO: create 3 clusters from data using the previously defined function\n",
        "kmeans3 = ..."
      ]
    },
    {
      "cell_type": "code",
      "execution_count": null,
      "metadata": {
        "id": "Kdav8Wdc4zC3"
      },
      "outputs": [],
      "source": [
        "# TODO: visualize the data with the final centroids for both the models\n",
        "plt.scatter(processed_data[:, 0], processed_data[:,1])\n",
        "...\n",
        "...\n",
        "\n",
        "plt.legend()\n",
        "plt.show()"
      ]
    },
    {
      "cell_type": "markdown",
      "metadata": {
        "id": "x_gosw-0nrK1"
      },
      "source": [
        "### **Clustering Evaluation**\n",
        "Numerical measures that are applied to judge various aspects of cluster validity, are classified into the following two types.\n",
        "- `Supervised`: Used to measure the extent to which cluster labels match externally supplied class labels.\n",
        "    - Entropy\n",
        "    - Often called external indices because they use information external to the data\n",
        "- `Unsupervised`: Used to measure the goodness of a clustering structure without respect to external information.\n",
        "    - Sum of Squared Error (SSE)\n",
        "    - Often called internal indices because they only use information in the data\n",
        "\n",
        "You can use supervised or unsupervised measures to compare clusters or clusterings\n",
        "\n",
        "---\n",
        "\n",
        "### **Unsupervised Measures: Cohesion and Separation**\n",
        "- `Cluster Cohesion`: Measures how closely related are objects in a cluster\n",
        "    - Example: SSE\n",
        "- `Cluster Separation`: Measure how distinct or well separated a cluster is from other clusters\n",
        "\n",
        "Example: Squared Error\n",
        "- Cohesion is measured by the within cluster sum of squares (SSE)\n",
        "    $$SSE = \\sum_i \\sum_{x \\in C_i}(x-m_i)^2$$\n",
        "- Separation is measured by the between cluster sum of squares\n",
        "    $$SSB = \\sum_i |c_i|(x-m_i)^2$$\n",
        "Where $|c_i|$ is the size of cluster i\n",
        "\n",
        "---\n",
        "\n",
        "### **Unsupervised Measures: Silhouette Coefficient**\n",
        "Silhouette coefficient combines ideas of both cohesion and separation, but for individual points, as well as clusters and clusterings\n",
        "- For an individual point, $i$\n",
        "    - Calculate $a$ = `average distance` of $i$ to the points in its cluster\n",
        "    - Calculate $b$ = `min (average distance of $i$ to points in another cluster)`\n",
        "    - The silhouette coefficient for a point is then given by\n",
        "    $$s = (b-a) / max(a,b)$$\n",
        "\n",
        "- Value can vary between -1 and 1\n",
        "- Typically ranges between 0 and 1.\n",
        "- The closer to 1 the better.\n",
        "\n",
        "---\n",
        "\n",
        "### **Measuring Cluster Validity Via Correlation**\n",
        "Two matrices\n",
        "- Proximity Matrix\n",
        "- Ideal Similarity Matrix\n",
        "    - One row and one column for each data point\n",
        "    - An entry is 1 if the associated pair of points belong to the same cluster\n",
        "    - An entry is 0 if the associated pair of points belongs to different clusters\n",
        "- Compute the correlation between the two matrices\n",
        "    - Since the matrices are symmetric, only the correlation between $n(n-1) / 2$ entries needs to be calculated.\n",
        "-  High magnitude of correlation indicates that points that belong to the same cluster are close to each other.\n",
        "    - Correlation may be positive or negative depending on whether the similarity matrix is a similarity or dissimilarity matrix\n",
        "- Not a good measure for some density or contiguity based clusters."
      ]
    },
    {
      "cell_type": "code",
      "execution_count": null,
      "metadata": {
        "id": "VKoCx5F8nrK1"
      },
      "outputs": [],
      "source": [
        "# TODO: get predictions for KMeans 4 using our processed_data\n",
        "# and ground_truth labels\n",
        "preds = ...\n",
        "ground_truth = ..."
      ]
    },
    {
      "cell_type": "code",
      "execution_count": null,
      "metadata": {
        "id": "EytCCcu2nrK1"
      },
      "outputs": [],
      "source": [
        "print(\"Preds: \", preds)\n",
        "print(\"Labels:\", ground_truth)"
      ]
    },
    {
      "cell_type": "code",
      "execution_count": null,
      "metadata": {
        "colab": {
          "base_uri": "https://localhost:8080/",
          "height": 307
        },
        "id": "xlZBoRuknrK1",
        "outputId": "0edec763-47e1-48ea-90c2-99cb69fdc3ad"
      },
      "outputs": [
        {
          "output_type": "display_data",
          "data": {
            "text/plain": [
              "<Figure size 800x300 with 2 Axes>"
            ],
            "image/png": "[encoded data removed]"
          },
          "metadata": {}
        }
      ],
      "source": [
        "# Plot points with ground truth labels and the KMEANS4\n",
        "fig, axs = plt.subplots(1,2, figsize=(8,3))\n",
        "sc1 = axs[0].scatter(dataset1['X'], dataset1['Y'], c=dataset1['Labels'])\n",
        "axs[0].set_title(\"Ground Truth\")\n",
        "axs[0].legend(*sc1.legend_elements())\n",
        "\n",
        "sc2 = axs[1].scatter(processed_data[:, 0], processed_data[:,1], c=kmeans4.labels_)\n",
        "axs[1].set_title(\"KMeans Output\")\n",
        "axs[1].legend(*sc2.legend_elements())\n",
        "\n",
        "plt.tight_layout()\n",
        "plt.show()"
      ]
    },
    {
      "cell_type": "code",
      "execution_count": null,
      "metadata": {
        "id": "N0Qk5ZdHnrK1"
      },
      "outputs": [],
      "source": [
        "from sklearn.metrics import confusion_matrix\n",
        "from scipy.optimize import linear_sum_assignment"
      ]
    },
    {
      "cell_type": "code",
      "execution_count": null,
      "metadata": {
        "colab": {
          "base_uri": "https://localhost:8080/"
        },
        "id": "xwePoq-QnrK1",
        "outputId": "071da6a6-74a9-4bcd-b204-2f3626310fa4"
      },
      "outputs": [
        {
          "output_type": "stream",
          "name": "stdout",
          "text": [
            "[[  0   9   1 990]\n",
            " [  0   1 999   0]\n",
            " [  0 994   0   6]\n",
            " [996   0   0   4]]\n",
            "[0 1 2 3]\n",
            "[3 2 1 0]\n",
            "{np.int64(3): np.int64(0), np.int64(2): np.int64(1), np.int64(1): np.int64(2), np.int64(0): np.int64(3)}\n",
            "[2 3 2 ... 1 2 1]\n"
          ]
        }
      ],
      "source": [
        "# Generate the confusion matrix\n",
        "cm = confusion_matrix(ground_truth, preds)\n",
        "print(cm)\n",
        "\n",
        "# Find the optimal label assignment\n",
        "row_ind, col_ind = linear_sum_assignment(-cm)\n",
        "print(row_ind)\n",
        "print(col_ind)\n",
        "\n",
        "# Create the mapping based on the optimal assignment\n",
        "label_map = dict(zip(col_ind, row_ind))\n",
        "print(label_map)\n",
        "\n",
        "# Re-map the predicted labels using the optimal assignment\n",
        "new_preds = np.array([label_map[label] for label in preds])\n",
        "print(new_preds)"
      ]
    },
    {
      "cell_type": "code",
      "execution_count": null,
      "metadata": {
        "colab": {
          "base_uri": "https://localhost:8080/",
          "height": 307
        },
        "id": "VYMB879dnrK1",
        "outputId": "ddf87eb0-f38c-4617-bdb0-d2f605206f87"
      },
      "outputs": [
        {
          "output_type": "display_data",
          "data": {
            "text/plain": [
              "<Figure size 800x300 with 2 Axes>"
            ],
            "image/png": "[encoded data removed]"
          },
          "metadata": {}
        }
      ],
      "source": [
        "# plot re-labeled values\n",
        "fig, axs = plt.subplots(1,2, figsize=(8,3))\n",
        "sc1 = axs[0].scatter(dataset1['X'], dataset1['Y'], c=ground_truth)\n",
        "axs[0].set_title(\"Ground Throuth\")\n",
        "axs[0].legend(*sc1.legend_elements())\n",
        "\n",
        "sc2 = axs[1].scatter(processed_data[:, 0], processed_data[:,1], c=new_preds)\n",
        "axs[1].set_title(\"KMeans Output\")\n",
        "axs[1].legend(*sc2.legend_elements())\n",
        "\n",
        "\n",
        "plt.tight_layout()\n",
        "plt.show()"
      ]
    },
    {
      "cell_type": "code",
      "execution_count": null,
      "metadata": {
        "colab": {
          "base_uri": "https://localhost:8080/"
        },
        "id": "uYFHZcy9nrK1",
        "outputId": "6baeff0b-67d5-425f-c63d-39901b9fefbf"
      },
      "outputs": [
        {
          "output_type": "stream",
          "name": "stdout",
          "text": [
            "Preds:  [2 3 2 ... 1 2 1]\n",
            "Labels: [2 3 2 ... 1 2 1]\n"
          ]
        }
      ],
      "source": [
        "print(\"Preds: \", new_preds)\n",
        "print(\"Labels:\", ground_truth)"
      ]
    },
    {
      "cell_type": "code",
      "execution_count": null,
      "metadata": {
        "colab": {
          "base_uri": "https://localhost:8080/"
        },
        "id": "8pT0wFADnrK1",
        "outputId": "a3c973fd-0f0d-4b83-ab52-b6d3cc523440"
      },
      "outputs": [
        {
          "output_type": "stream",
          "name": "stdout",
          "text": [
            "Accuracy: 0.99475\n"
          ]
        }
      ],
      "source": [
        "from sklearn.metrics import accuracy_score\n",
        "\n",
        "accuracy = accuracy_score(ground_truth, new_preds)\n",
        "print(f'Accuracy: {accuracy}')"
      ]
    },
    {
      "cell_type": "code",
      "execution_count": null,
      "metadata": {
        "colab": {
          "base_uri": "https://localhost:8080/"
        },
        "id": "P4z6yZqrnrK1",
        "outputId": "5b6d8351-abb1-4d35-ccba-4eb665e85d3f"
      },
      "outputs": [
        {
          "output_type": "stream",
          "name": "stdout",
          "text": [
            "Adjusted Rand Index (ARI): 0.9860802613992619\n"
          ]
        }
      ],
      "source": [
        "from sklearn.metrics import adjusted_rand_score\n",
        "\n",
        "# Calculate Adjusted Rand Index (ARI)\n",
        "ari = adjusted_rand_score(ground_truth, new_preds)\n",
        "print(\"Adjusted Rand Index (ARI):\", ari)"
      ]
    },
    {
      "cell_type": "code",
      "execution_count": null,
      "metadata": {
        "id": "F2TlGh5MnrK1"
      },
      "outputs": [],
      "source": [
        "import numpy as np\n",
        "from sklearn.metrics import pairwise_distances\n",
        "\n",
        "pairwisedist = pairwise_distances(processed_data, metric='cosine')\n",
        "\n",
        "# sorting by labels\n",
        "sorted_pairwisedist = pairwisedist[np.argsort(kmeans4.labels_)][:, np.argsort(kmeans4.labels_)]\n",
        "labels = kmeans4.labels_[np.argsort(kmeans4.labels_)]\n",
        "\n",
        "# keeping the distance values between 0 and 1.\n",
        "sorted_pairwisedist = sorted_pairwisedist / np.max(sorted_pairwisedist)\n",
        "sorted_similarity = 1- sorted_pairwisedist / np.max(sorted_pairwisedist)\n",
        "\n",
        "#plotting\n",
        "import matplotlib.pyplot as plt\n",
        "plt.imshow(sorted_similarity,cmap ='jet')\n",
        "plt.colorbar()\n",
        "plt.show()"
      ]
    },
    {
      "cell_type": "code",
      "execution_count": null,
      "metadata": {
        "id": "n0iJvCsLnrK1"
      },
      "outputs": [],
      "source": [
        "# NOTE: Incidence Matrix IDEALE\n",
        "incidence_matrix = np.zeros_like(sorted_similarity)\n",
        "for i in range(len(labels)):\n",
        "    for j in range(len(labels)):\n",
        "        incidence_matrix[i,j] = int(labels[i] == labels[j])\n",
        "\n",
        "plt.imshow(incidence_matrix, cmap='jet')\n",
        "plt.colorbar()\n",
        "plt.show()"
      ]
    },
    {
      "cell_type": "code",
      "execution_count": null,
      "metadata": {
        "id": "52S9H0VrnrK1"
      },
      "outputs": [],
      "source": [
        "# compute correlation\n",
        "corr_org = np.corrcoef(sorted_pairwisedist.flatten(), incidence_matrix.flatten())[0, 1]\n",
        "corr_org"
      ]
    },
    {
      "cell_type": "code",
      "source": [
        "# TODO: plot labeled points using smaller dots\n",
        "sc = plt.scatter(processed_data[:, 0], processed_data[:,1], c=kmeans4.labels_, ...)\n",
        "plt.legend(*sc.legend_elements())\n",
        "\n",
        "plt.title(\"Labels\")\n",
        "plt.show()"
      ],
      "metadata": {
        "id": "ZXRubWdUXrkS"
      },
      "execution_count": null,
      "outputs": []
    },
    {
      "cell_type": "code",
      "source": [
        "from sklearn.datasets import make_blobs\n",
        "\n",
        "# Generating a toy dataset for clustering using KMeans\n",
        "X, y = make_blobs(n_samples=800, centers=4, cluster_std=0.3, random_state=42)\n",
        "\n",
        "# Creating a DataFrame for easy access\n",
        "df = pd.DataFrame(X, columns=['Feature 1', 'Feature 2'])\n",
        "\n",
        "# Plotting the dataset to visualize the clusters\n",
        "plt.scatter(X[:, 0], X[:, 1], s=1, cmap='viridis',)\n",
        "plt.title(\"Toy Dataset for KMeans Clustering\")\n",
        "plt.xlabel(\"Feature 1\")\n",
        "plt.ylabel(\"Feature 2\")\n",
        "plt.show()\n",
        "\n",
        "# use the StandardScaler to standardize data\n",
        "good_data = StandardScaler().fit_transform(X)\n",
        "kmeans4_good = build_kmeans(4, good_data)\n",
        "\n",
        "pairwisedist = pairwise_distances(good_data, metric='cosine')\n",
        "\n",
        "# sorting by labels\n",
        "sorted_pairwisedist = pairwisedist[np.argsort(kmeans4_good.labels_)][:, np.argsort(kmeans4_good.labels_)]\n",
        "labels = kmeans4_good.labels_[np.argsort(kmeans4_good.labels_)]\n",
        "\n",
        "# keeping the distance values between 0 and 1.\n",
        "sorted_pairwisedist = sorted_pairwisedist / np.max(sorted_pairwisedist)\n",
        "sorted_similarity = 1- sorted_pairwisedist / np.max(sorted_pairwisedist)\n",
        "\n",
        "#plotting\n",
        "plt.imshow(sorted_similarity,cmap ='jet')\n",
        "plt.colorbar()\n",
        "plt.show()\n",
        "\n",
        "# NOTE: Incidence Matrix IDEALE\n",
        "incidence_matrix = np.zeros_like(sorted_similarity)\n",
        "for i in range(len(labels)):\n",
        "    for j in range(len(labels)):\n",
        "        incidence_matrix[i,j] = int(labels[i] == labels[j])\n",
        "\n",
        "plt.imshow(incidence_matrix, cmap='jet')\n",
        "plt.colorbar()\n",
        "plt.show()\n",
        "\n",
        "# Plot labeled points\n",
        "sc = plt.scatter(good_data[:, 0], good_data[:,1], c=kmeans4_good.labels_, s=.3)\n",
        "plt.legend(*sc.legend_elements())\n",
        "\n",
        "plt.title(\"Labels\")\n",
        "plt.show()\n",
        "\n",
        "# compute correlation\n",
        "corr_org = np.corrcoef(sorted_pairwisedist.flatten(), incidence_matrix.flatten())[0, 1]\n",
        "print(corr_org)"
      ],
      "metadata": {
        "id": "jED5nMhwXxZu"
      },
      "execution_count": null,
      "outputs": []
    },
    {
      "cell_type": "markdown",
      "metadata": {
        "id": "R7Zh8NytnrK1"
      },
      "source": [
        "Now lets try a challenging dataset for KMeans !"
      ]
    },
    {
      "cell_type": "code",
      "execution_count": null,
      "metadata": {
        "id": "a9fDDQQwnrK1"
      },
      "outputs": [],
      "source": [
        "# TODO: show some rows of dummy_dataset file\n",
        "file_preview(...)"
      ]
    },
    {
      "cell_type": "code",
      "execution_count": null,
      "metadata": {
        "id": "Z4Ep-WUjnrK1"
      },
      "outputs": [],
      "source": [
        "# TODO: load dummy_dataset into a DataFrame\n",
        "dataset2 = ...\n",
        "dataset2"
      ]
    },
    {
      "cell_type": "code",
      "execution_count": null,
      "metadata": {
        "id": "vf-fWo8InrK1"
      },
      "outputs": [],
      "source": [
        "# TODO: plot data\n",
        "...\n",
        "plt.show()"
      ]
    },
    {
      "cell_type": "code",
      "execution_count": null,
      "metadata": {
        "id": "5Mp8JNQonrK1"
      },
      "outputs": [],
      "source": [
        "# TODO: preprocess data\n",
        "scaler_hard = ...\n",
        "hard_data = ..."
      ]
    },
    {
      "cell_type": "code",
      "execution_count": null,
      "metadata": {
        "id": "dihQdIahnrK1"
      },
      "outputs": [],
      "source": [
        "plt.scatter(hard_data[:, 0], hard_data[:, 1])\n",
        "plt.show()"
      ]
    },
    {
      "cell_type": "code",
      "execution_count": null,
      "metadata": {
        "id": "8Fd58VhQnrK1"
      },
      "outputs": [],
      "source": [
        "# TODO: create a KMeans Model using the appropriate number of centroids\n",
        "kmeans5 = ..."
      ]
    },
    {
      "cell_type": "code",
      "execution_count": null,
      "metadata": {
        "id": "rxViExFMnrK1"
      },
      "outputs": [],
      "source": [
        "# TODO: plot clustering results (centers and labels)\n",
        "...\n",
        "plt.show()"
      ]
    },
    {
      "cell_type": "markdown",
      "metadata": {
        "id": "mnciFulonrK1"
      },
      "source": [
        "### **Statistical Framework**\n",
        "\n",
        "Cluster validation requires a way to understand and interpret evaluation measures.\n",
        "- For example, if our measure of evaluation has the value, 10, is that good, fair, or poor?\n",
        "\n",
        "**Statistics provide a helpful framework for this**. We can compare the values of our evaluation measure with those obtained from random data.\n",
        "\n",
        "If the value we observe is highly unlikely to occur by random chance, it indicates that our clusters are likely valid and not simply a result of randomness.\n",
        "\n",
        "- The more “atypical” a clustering result is, the more likely it represents valid structure in the data\n",
        "- Compare the value of an index obtained from the given data with those resulting from random data.\n",
        "     If the value of the index is unlikely, then the cluster results are valid"
      ]
    },
    {
      "cell_type": "code",
      "execution_count": null,
      "metadata": {
        "id": "EZz5ecFQnrK1"
      },
      "outputs": [],
      "source": [
        "corrhist =[]\n",
        "ssehist =[]\n",
        "ranges = [(processed_data[col].min(), processed_data[col].max()) for col in [0,1]] # specify different ranges for each column\n",
        "for seed in range(0,500):\n",
        "  np.random.seed(seed)\n",
        "  randomdata = np.random.default_rng().uniform(low=ranges[0][0], high=ranges[0][1], size=(100, 1))\n",
        "  for r in ranges[1:]:\n",
        "      randomdata = np.concatenate((randomdata, np.random.randint(low=r[0], high=r[1], size=(100, 1))), axis=1)\n",
        "  randomdf = pd.DataFrame(randomdata)\n",
        "\n",
        "#scaling random df\n",
        "  scaledranddf = scaler.fit_transform(randomdf)\n",
        "#clustering each df\n",
        "  clfr = build_kmeans(4, scaledranddf)\n",
        "  labels = clfr.labels_[np.argsort(clfr.labels_)]\n",
        "\n",
        "#distance matrix for each random df\n",
        "  pairwisedistr = pairwise_distances(scaledranddf, metric='cosine')\n",
        "  sorted_pairwisedistr = pairwisedist[np.argsort(labels)][:, np.argsort(labels)]\n",
        "\n",
        "#Ideal Similarity matrix for each randomdf\n",
        "  incidence_matrixr = np.zeros_like(sorted_pairwisedistr)\n",
        "  for i in range(len(labels)):\n",
        "      for j in range(len(labels)):\n",
        "          incidence_matrixr[i,j] = int(labels[i] == labels[j])\n",
        "\n",
        "#calculating correlation of proximity matrix(distance) and Incidence matrix (Ideal similarity)\n",
        "  corrhist.append(np.corrcoef(sorted_pairwisedistr.flatten(), incidence_matrixr.flatten())[0, 1])\n",
        "  ssehist.append(clfr.inertia_)"
      ]
    },
    {
      "cell_type": "code",
      "execution_count": null,
      "metadata": {
        "colab": {
          "base_uri": "https://localhost:8080/",
          "height": 472
        },
        "id": "-x3mT_EKnrLG",
        "outputId": "6a813064-04d5-4392-c7cb-a011aa589f07"
      },
      "outputs": [
        {
          "output_type": "display_data",
          "data": {
            "text/plain": [
              "<Figure size 640x480 with 1 Axes>"
            ],
            "image/png": "[encoded data removed]"
          },
          "metadata": {}
        }
      ],
      "source": [
        "plt.hist(corrhist,bins=30)\n",
        "plt.axvline(np.mean(corrhist),color='red',linestyle='dashed',linewidth=1)\n",
        "plt.axvline(corr_org,color='green',linestyle='dashed',linewidth=1)\n",
        "plt.title('Correlation from Similarity comparision of Original data vs  500 Random datasets')\n",
        "\n",
        "plt.xlabel('Correlation')\n",
        "plt.show()"
      ]
    },
    {
      "cell_type": "markdown",
      "metadata": {
        "id": "_s94cT0EnrLG"
      },
      "source": [
        "The green line represents the value of metric for the original dataset while the red line is the mean of the metric‘s value for the 500 random datasets."
      ]
    },
    {
      "cell_type": "markdown",
      "metadata": {
        "id": "94QDMWVcnrLG"
      },
      "source": [
        "### **Selecting the optimal number of clusters**"
      ]
    },
    {
      "cell_type": "markdown",
      "metadata": {
        "id": "-LeC08L7nrLG"
      },
      "source": [
        "#### Elbow Method for Determining the Optimal Number of Clusters in K-means\n",
        "\n",
        "The elbow method for determining the optimal number of clusters in K-means involves:\n",
        "\n",
        "1. Computing the Within-Cluster Sum of Squares (WCSS) for different values of k (the number of clusters).\n",
        "2. Plotting k against WCSS.\n",
        "3. Identifying the \"elbow\" point in the plot, where the rate of decrease of WCSS slows down significantly.\n",
        "4. Selecting the number of clusters corresponding to this elbow point as the optimal number of clusters for the dataset.\n",
        "\n",
        "- Note that: `kMeans.inertia` = WCSS\n"
      ]
    },
    {
      "cell_type": "code",
      "execution_count": null,
      "metadata": {
        "id": "XDnYuNWV52FM"
      },
      "outputs": [],
      "source": [
        "number_of_cluster = 11\n",
        "error = [] # array to collect the measure values\n",
        "# TODO: implement the for loop\n",
        "for ...:\n",
        "  ...\n",
        "\n",
        "plt.plot(range(1, number_of_cluster), error)\n",
        "plt.show()"
      ]
    },
    {
      "cell_type": "markdown",
      "metadata": {
        "id": "q6-1AKpynrLG"
      },
      "source": [
        "#### Selecting the number of clusters with silhouette analysis on KMeans clustering\n",
        "Silhouette analysis can be used to study the separation distance between the resulting clusters. The silhouette plot displays a measure of how close each point in one cluster is to points in the neighboring clusters and thus provides a way to assess parameters like number of clusters visually. This measure has a range of `[-1, 1]`.\n",
        "\n",
        "Silhouette coefficients (as these values are referred to as) near `+1` indicate that the sample is far away from the neighboring clusters. A value of `0` indicates that the sample is on or very close to the decision boundary between two neighboring clusters and negative values indicate that those samples might have been assigned to the wrong cluster.\n",
        "\n",
        "Also from the thickness of the silhouette plot the cluster size can be visualized.\n",
        "\n",
        "[see here](https://scikit-learn.org/stable/auto_examples/cluster/plot_kmeans_silhouette_analysis.html#sphx-glr-auto-examples-cluster-plot-kmeans-silhouette-analysis-py)"
      ]
    },
    {
      "cell_type": "code",
      "execution_count": null,
      "metadata": {
        "id": "S8ZhdSUNnrLG"
      },
      "outputs": [],
      "source": [
        "import matplotlib.cm as cm\n",
        "\n",
        "from sklearn.metrics import silhouette_samples, silhouette_score\n",
        "\n",
        "X = processed_data.copy()\n",
        "\n",
        "range_n_clusters = [2, 3, 4, 5, 6]\n",
        "\n",
        "for n_clusters in range_n_clusters:\n",
        "    # Create a subplot with 1 row and 2 columns\n",
        "    fig, (ax1, ax2) = plt.subplots(1, 2)\n",
        "    fig.set_size_inches(18, 7)\n",
        "\n",
        "    # The 1st subplot is the silhouette plot\n",
        "    # The silhouette coefficient can range from -1, 1 but in this example all\n",
        "    # lie within [-0.1, 1]\n",
        "    ax1.set_xlim([-0.1, 1])\n",
        "    # The (n_clusters+1)*10 is for inserting blank space between silhouette\n",
        "    # plots of individual clusters, to demarcate them clearly.\n",
        "    ax1.set_ylim([0, len(X) + (n_clusters + 1) * 10])\n",
        "\n",
        "    # Initialize the clusterer with n_clusters\n",
        "    clusterer = build_kmeans(n_clusters, X)\n",
        "    cluster_labels = clusterer.predict(X)\n",
        "\n",
        "\n",
        "    # The silhouette_score gives the average value for all the samples.\n",
        "    # This gives a perspective into the density and separation of the formed\n",
        "    # clusters\n",
        "    silhouette_avg = silhouette_score(X, cluster_labels)\n",
        "    print(\n",
        "        \"For n_clusters =\",\n",
        "        n_clusters,\n",
        "        \"The average silhouette_score is :\",\n",
        "        silhouette_avg,\n",
        "    )\n",
        "\n",
        "    # Compute the silhouette scores for each sample\n",
        "    sample_silhouette_values = silhouette_samples(X, cluster_labels)\n",
        "\n",
        "    y_lower = 10\n",
        "    for i in range(n_clusters):\n",
        "        # Aggregate the silhouette scores for samples belonging to\n",
        "        # cluster i, and sort them\n",
        "        ith_cluster_silhouette_values = sample_silhouette_values[cluster_labels == i]\n",
        "\n",
        "        ith_cluster_silhouette_values.sort()\n",
        "\n",
        "        size_cluster_i = ith_cluster_silhouette_values.shape[0]\n",
        "        y_upper = y_lower + size_cluster_i\n",
        "\n",
        "        color = cm.nipy_spectral(float(i) / n_clusters)\n",
        "        ax1.fill_betweenx(\n",
        "            np.arange(y_lower, y_upper),\n",
        "            0,\n",
        "            ith_cluster_silhouette_values,\n",
        "            facecolor=color,\n",
        "            edgecolor=color,\n",
        "            alpha=0.7,\n",
        "        )\n",
        "\n",
        "        # Label the silhouette plots with their cluster numbers at the middle\n",
        "        ax1.text(-0.05, y_lower + 0.5 * size_cluster_i, str(i))\n",
        "\n",
        "        # Compute the new y_lower for next plot\n",
        "        y_lower = y_upper + 10  # 10 for the 0 samples\n",
        "\n",
        "    ax1.set_title(\"The silhouette plot for the various clusters.\")\n",
        "    ax1.set_xlabel(\"The silhouette coefficient values\")\n",
        "    ax1.set_ylabel(\"Cluster label\")\n",
        "\n",
        "    # The vertical line for average silhouette score of all the values\n",
        "    ax1.axvline(x=silhouette_avg, color=\"red\", linestyle=\"--\")\n",
        "\n",
        "    ax1.set_yticks([])  # Clear the yaxis labels / ticks\n",
        "    ax1.set_xticks([-0.1, 0, 0.2, 0.4, 0.6, 0.8, 1])\n",
        "\n",
        "    # 2nd Plot showing the actual clusters formed\n",
        "    colors = cm.nipy_spectral(cluster_labels.astype(float) / n_clusters)\n",
        "    ax2.scatter(\n",
        "        X[:, 0], X[:, 1], marker=\".\", s=30, lw=0, alpha=0.7, c=colors, edgecolor=\"k\"\n",
        "    )\n",
        "\n",
        "    # Labeling the clusters\n",
        "    centers = clusterer.cluster_centers_\n",
        "    # Draw white circles at cluster centers\n",
        "    ax2.scatter(\n",
        "        centers[:, 0],\n",
        "        centers[:, 1],\n",
        "        marker=\"o\",\n",
        "        c=\"white\",\n",
        "        alpha=1,\n",
        "        s=200,\n",
        "        edgecolor=\"k\",\n",
        "    )\n",
        "\n",
        "    for i, c in enumerate(centers):\n",
        "        ax2.scatter(c[0], c[1], marker=\"$%d$\" % i, alpha=1, s=50, edgecolor=\"k\")\n",
        "\n",
        "    ax2.set_title(\"The visualization of the clustered data.\")\n",
        "    ax2.set_xlabel(\"Feature space for the 1st feature\")\n",
        "    ax2.set_ylabel(\"Feature space for the 2nd feature\")\n",
        "\n",
        "    plt.suptitle(\n",
        "        \"Silhouette analysis for KMeans clustering on sample data with n_clusters = %d\"\n",
        "        % n_clusters,\n",
        "        fontsize=14,\n",
        "        fontweight=\"bold\",\n",
        "    )\n",
        "\n",
        "plt.show()"
      ]
    },
    {
      "cell_type": "markdown",
      "metadata": {
        "id": "_aEcuvVlnrLG"
      },
      "source": [
        "#### `Random` vs `k-means++` initialization\n",
        "\n",
        "- `k-means++` : selects initial cluster centroids using sampling based on an empirical probability distribution of the points’ contribution to the overall inertia. This technique **speeds up convergence**. The algorithm implemented is “greedy k-means++”. It differs from the vanilla k-means++ by making several trials at each sampling step and choosing the best centroid among them.\n",
        "- `random`: choose n_clusters observations (rows) at random from data for the initial centroids."
      ]
    },
    {
      "cell_type": "code",
      "execution_count": null,
      "metadata": {
        "id": "2WpSyxr4AaVQ"
      },
      "outputs": [],
      "source": [
        "f, (ax1, ax2) = plt.subplots(1, 2, sharey=True, figsize=(10,6))\n",
        "ax1.set_title(\"k means++ 4\")\n",
        "ax2.set_title(\"k means++ 3\")\n",
        "\n",
        "ax1.scatter(processed_data[:,0], processed_data[:,1], c = kmeans4.labels_, cmap =\"brg\" )\n",
        "ax1.scatter(kmeans4.cluster_centers_[:,0], kmeans4.cluster_centers_[:,1], s = 250, marker = \"*\", c=\"yellow\", edgecolors=\"black\")\n",
        "\n",
        "ax2.scatter(processed_data[:,0], processed_data[:,1], c = kmeans3.labels_, cmap =\"brg\" )\n",
        "ax2.scatter(kmeans3.cluster_centers_[:,0], kmeans3.cluster_centers_[:,1], s = 80, marker = \"o\", c=\"yellow\", edgecolors=\"black\")\n",
        "\n",
        "##################################################################################\n",
        "\n",
        "kmeans4_rand = build_kmeans(4, processed_data, \"random\", 1, 2)\n",
        "kmeans3_rand = build_kmeans(3, processed_data, \"random\", 1, 2)\n",
        "\n",
        "f, (ax1, ax2) = plt.subplots(1, 2, sharey=True, figsize=(10,6))\n",
        "ax1.set_title(\"k means 4 random_init\")\n",
        "ax2.set_title(\"k means 3 random_init\")\n",
        "\n",
        "ax1.scatter(processed_data[:,0], processed_data[:,1], c = kmeans4_rand.labels_, cmap =\"brg\" )\n",
        "ax1.scatter(kmeans4_rand.cluster_centers_[:,0], kmeans4_rand.cluster_centers_[:,1], s = 250, marker = \"*\", c=\"yellow\", edgecolors=\"black\")\n",
        "\n",
        "ax2.scatter(processed_data[:,0], processed_data[:,1], c = kmeans3_rand.labels_, cmap =\"brg\" )\n",
        "ax2.scatter(kmeans3_rand.cluster_centers_[:,0], kmeans3_rand.cluster_centers_[:,1], s = 80, marker = \"o\", c=\"yellow\", edgecolors=\"black\")\n",
        "plt.show()"
      ]
    },
    {
      "cell_type": "markdown",
      "metadata": {
        "id": "jBGsYUIcnrLG"
      },
      "source": [
        "## **DBSCAN**"
      ]
    },
    {
      "cell_type": "markdown",
      "metadata": {
        "id": "kBB0HWlonrLG"
      },
      "source": [
        "To find the best parameters **Eps** and **MinPts** for DBSCAN we can use the elbow method by plotting the distance of the `k_th` neighbors.\n",
        "\n",
        "To do this we can use the methods provided by the class [`NearestNeighbors`](https://scikit-learn.org/stable/modules/generated/sklearn.neighbors.NearestNeighbors.html#sklearn.neighbors.NearestNeighbors).\n",
        "\n",
        "In particular we can use the kneighbors method (applied on the trained model) to find the **K-neighbors** of a point.\n",
        "\n",
        "Look at DBSCAN [documentation](https://scikit-learn.org/stable/modules/generated/sklearn.cluster.DBSCAN.html#sklearn.cluster.DBSCAN)"
      ]
    },
    {
      "cell_type": "code",
      "execution_count": null,
      "metadata": {
        "id": "FXGXuKYmnrLG"
      },
      "outputs": [],
      "source": [
        "from sklearn.cluster import DBSCAN\n",
        "from sklearn.neighbors import NearestNeighbors"
      ]
    },
    {
      "cell_type": "code",
      "execution_count": null,
      "metadata": {
        "id": "iFXEh5rU8Eds"
      },
      "outputs": [],
      "source": [
        "neighbors = NearestNeighbors(n_neighbors=8) # set n_neighbors to the MinPts you want to analyze (try 8 for good results)\n",
        "neighbors_fit = neighbors.fit(processed_data)\n",
        "distances, indices = neighbors_fit.kneighbors(processed_data)\n",
        "print(distances)\n",
        "\n",
        "distances = np.sort(distances, axis=0)\n",
        "distances = distances[:, -1]\n",
        "plt.plot(distances)\n",
        "plt.show()"
      ]
    },
    {
      "cell_type": "code",
      "execution_count": null,
      "metadata": {
        "id": "bO-vhAXiDSnT"
      },
      "outputs": [],
      "source": [
        "# Call DBSCAN and fit a model on the same dataset\n",
        "\n",
        "dbscan = DBSCAN(eps=0.12, min_samples=8)\n",
        "dbscan = dbscan.fit(processed_data)"
      ]
    },
    {
      "cell_type": "markdown",
      "metadata": {
        "id": "jPylHPsxnrLG"
      },
      "source": [
        "Analyze the assigned labels in order to retrieve the number of clusters and noise points\n",
        "- `-1` is the label assigned to noise points"
      ]
    },
    {
      "cell_type": "code",
      "execution_count": null,
      "metadata": {
        "id": "Uc-YzidDnrLG"
      },
      "outputs": [],
      "source": [
        "# TODO: get labels\n",
        "labels = ...\n",
        "print(\"type(labels)=\",type(labels))\n",
        "print(labels)\n",
        "\n",
        "# TODO: get unieuq labels\n",
        "nl = ...\n",
        "print(\"Assigned labels: \",nl)\n",
        "\n",
        "n_clusters = len(np.unique(labels)) - (1 if -1 in labels else 0)\n",
        "\n",
        "n_noise = list(labels).count(-1)\n",
        "\n",
        "print(\"Estimated number of clusters:\", n_clusters)\n",
        "print(\"Estimated number of noise points:\",n_noise, \"representing \",n_noise*100/dataset1.shape[0],\"%\")"
      ]
    },
    {
      "cell_type": "code",
      "execution_count": null,
      "metadata": {
        "id": "I1J7NPSAD_A6"
      },
      "outputs": [],
      "source": [
        "# Visualize clusters using different colors for different labels\n",
        "plt.scatter(processed_data[:, 0], processed_data[:,1], c=dbscan.labels_, cmap=\"brg\")\n",
        "plt.show()"
      ]
    },
    {
      "cell_type": "code",
      "execution_count": null,
      "metadata": {
        "id": "kSc3fgvk_HQa"
      },
      "outputs": [],
      "source": [
        "#  Visualize the data (2D scatter plot)\n",
        "plt.scatter(hard_data[:,0], hard_data[:,1])\n",
        "plt.show()"
      ]
    },
    {
      "cell_type": "code",
      "execution_count": null,
      "metadata": {
        "id": "pB44VRLT_e7h"
      },
      "outputs": [],
      "source": [
        "# Apply kmeans with k=5\n",
        "kmeans_bis = build_kmeans(5, hard_data)"
      ]
    },
    {
      "cell_type": "code",
      "execution_count": null,
      "metadata": {
        "id": "w8tSi3IO_1mG"
      },
      "outputs": [],
      "source": [
        "# Visualize centers and colored clusters\n",
        "plt.scatter(hard_data[:,0], hard_data[:,1], c=kmeans_bis.labels_)\n",
        "plt.scatter(kmeans_bis.cluster_centers_[:,0], kmeans_bis.cluster_centers_[:,1], marker = \"*\", c = \"yellow\", s=150, edgecolors=\"black\")\n",
        "plt.show()"
      ]
    },
    {
      "cell_type": "code",
      "execution_count": null,
      "metadata": {
        "id": "s6zaJUIw-Lsa"
      },
      "outputs": [],
      "source": [
        "# TODO: Use the elbow method defined above to plot, for each point, the k-th neighbor distance\n",
        "# NOTE: n_neighbors=3 is a good value for this dataset\n",
        "...\n",
        "\n",
        "plt.plot(distances)\n",
        "plt.show()"
      ]
    },
    {
      "cell_type": "code",
      "execution_count": null,
      "metadata": {
        "id": "t76WthXSBHqr"
      },
      "outputs": [],
      "source": [
        "# TODO: define a DBSCAN model with estimated ESP and MinPTS\n",
        "dbscan_bis = ...\n",
        "dbscan_bis = dbscan_bis.fit(hard_data)"
      ]
    },
    {
      "cell_type": "code",
      "execution_count": null,
      "metadata": {
        "colab": {
          "base_uri": "https://localhost:8080/"
        },
        "id": "kNowXqUUnrLG",
        "outputId": "54a3dd93-238e-4466-c8a4-e6309eba005a"
      },
      "outputs": [
        {
          "output_type": "execute_result",
          "data": {
            "text/plain": [
              "array([-1,  0,  1,  2,  3,  4])"
            ]
          },
          "metadata": {},
          "execution_count": 54
        }
      ],
      "source": [
        "np.unique(dbscan_bis.labels_)"
      ]
    },
    {
      "cell_type": "code",
      "execution_count": null,
      "metadata": {
        "id": "TykTuWOEBfOv"
      },
      "outputs": [],
      "source": [
        "# visualize the colored clusters\n",
        "plt.scatter(hard_data[:,0], hard_data[:,1], c = dbscan_bis.labels_, cmap = \"plasma\")\n",
        "plt.show()"
      ]
    },
    {
      "cell_type": "markdown",
      "metadata": {
        "id": "4ym4D2gonrLG"
      },
      "source": [
        "## **Agglomerative Clustering**\n",
        "\n",
        "Look ad Agglomerative CLustering [documentation](https://scikit-learn.org/stable/modules/generated/sklearn.cluster.AgglomerativeClustering.html#sklearn.cluster.AgglomerativeClustering)"
      ]
    },
    {
      "cell_type": "code",
      "execution_count": null,
      "metadata": {
        "id": "GbE90MjFvfoo"
      },
      "outputs": [],
      "source": [
        "from sklearn.cluster import AgglomerativeClustering\n",
        "\n",
        "agglo = AgglomerativeClustering(n_clusters=4, metric=\"euclidean\", linkage=\"average\") #single/average/complete/ward\n",
        "\n",
        "y_agglo = agglo.fit_predict(processed_data)\n",
        "print(y_agglo)\n",
        "plt.scatter(processed_data[:, 0], processed_data[:,1], c=y_agglo, cmap =\"brg\") # y_agglo =  labels_\n",
        "plt.show()"
      ]
    },
    {
      "cell_type": "markdown",
      "metadata": {
        "id": "Bch2MPF1nrLG"
      },
      "source": [
        "To visualize the dendogram we can use the scipy library in this case also the clustering is made by the methods in scipy"
      ]
    },
    {
      "cell_type": "code",
      "execution_count": null,
      "metadata": {
        "id": "6h9yr8ME2KC3"
      },
      "outputs": [],
      "source": [
        "import scipy.cluster.hierarchy as sch\n",
        "\n",
        "out_linkage=sch.linkage(processed_data, method = \"average\")\n",
        "d = sch.dendrogram (out_linkage)\n",
        "plt.title(\"dendrogram\")\n",
        "plt.xlabel(\"Clusters\")\n",
        "plt.ylabel(\"Euclidean\")\n",
        "plt.axhline(y = 4.5, color = \"r\", linestyle = \"-\")\n",
        "plt.axhline(y = 3.5, color = \"black\", linestyle = \"-\")\n",
        "plt.axhline(y = 2.5, color = \"yellow\", linestyle = \"-\")\n",
        "plt.show()"
      ]
    },
    {
      "cell_type": "code",
      "execution_count": null,
      "metadata": {
        "id": "XKS4dmhswCVp"
      },
      "outputs": [],
      "source": [
        " #single/average/complete/ward\n",
        "agglo_bis = AgglomerativeClustering(n_clusters= 5, metric=\"euclidean\", linkage=\"single\")\n",
        "y_agglo_bis = agglo_bis.fit_predict(hard_data)\n",
        "\n",
        "plt.scatter(hard_data[:,0], hard_data[:,1], c = y_agglo_bis,cmap = \"plasma\")\n",
        "plt.show()"
      ]
    }
  ],
  "metadata": {
    "colab": {
      "provenance": []
    },
    "kernelspec": {
      "display_name": "tensorflow",
      "language": "python",
      "name": "tensorflow"
    },
    "language_info": {
      "codemirror_mode": {
        "name": "ipython",
        "version": 3
      },
      "file_extension": ".py",
      "mimetype": "text/x-python",
      "name": "python",
      "nbconvert_exporter": "python",
      "pygments_lexer": "ipython3",
      "version": "3.11.5"
    }
  },
  "nbformat": 4,
  "nbformat_minor": 0
}